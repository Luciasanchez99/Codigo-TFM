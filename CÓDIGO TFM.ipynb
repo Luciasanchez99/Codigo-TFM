{
 "cells": [
  {
   "cell_type": "markdown",
   "id": "00ad6511",
   "metadata": {},
   "source": [
    "## INSTALACIÓN DE PAQUETES"
   ]
  },
  {
   "cell_type": "markdown",
   "id": "46054ca1",
   "metadata": {},
   "source": [
    "#### Instalación del paquete para poder realizar la técnica de smote ya que no viene instalada. "
   ]
  },
  {
   "cell_type": "code",
   "execution_count": 1,
   "id": "7e485cd4",
   "metadata": {},
   "outputs": [
    {
     "name": "stdout",
     "output_type": "stream",
     "text": [
      "Requirement already satisfied: imbalanced-learn in c:\\users\\lucia\\anaconda3\\lib\\site-packages (0.10.1)\n",
      "Requirement already satisfied: scikit-learn>=1.0.2 in c:\\users\\lucia\\anaconda3\\lib\\site-packages (from imbalanced-learn) (1.0.2)\n",
      "Requirement already satisfied: numpy>=1.17.3 in c:\\users\\lucia\\anaconda3\\lib\\site-packages (from imbalanced-learn) (1.21.5)\n",
      "Requirement already satisfied: threadpoolctl>=2.0.0 in c:\\users\\lucia\\anaconda3\\lib\\site-packages (from imbalanced-learn) (2.2.0)\n",
      "Requirement already satisfied: scipy>=1.3.2 in c:\\users\\lucia\\anaconda3\\lib\\site-packages (from imbalanced-learn) (1.9.1)\n",
      "Requirement already satisfied: joblib>=1.1.1 in c:\\users\\lucia\\anaconda3\\lib\\site-packages (from imbalanced-learn) (1.2.0)\n",
      "Note: you may need to restart the kernel to use updated packages.\n"
     ]
    }
   ],
   "source": [
    "pip install imbalanced-learn"
   ]
  },
  {
   "cell_type": "markdown",
   "id": "4af77ac8",
   "metadata": {},
   "source": [
    "#### Instalación del paquete para poder realizar la gráfica del árbol de decisión ya que no viene instalada. "
   ]
  },
  {
   "cell_type": "code",
   "execution_count": 2,
   "id": "3f406f97",
   "metadata": {},
   "outputs": [
    {
     "name": "stdout",
     "output_type": "stream",
     "text": [
      "Requirement already satisfied: graphviz in c:\\users\\lucia\\anaconda3\\lib\\site-packages (0.20.1)Note: you may need to restart the kernel to use updated packages.\n",
      "\n"
     ]
    }
   ],
   "source": [
    "pip install graphviz"
   ]
  },
  {
   "cell_type": "markdown",
   "id": "fd1553ea",
   "metadata": {},
   "source": [
    "#### Importar las librerías con las que voy a trabajar"
   ]
  },
  {
   "cell_type": "code",
   "execution_count": 3,
   "id": "5a557f8c",
   "metadata": {},
   "outputs": [],
   "source": [
    "import pandas as pd\n",
    "import numpy as np\n",
    "import matplotlib.pyplot as plt\n",
    "import seaborn as sns\n",
    "from datetime import datetime\n",
    "from sklearn.model_selection import train_test_split\n",
    "from imblearn import under_sampling, over_sampling\n",
    "from imblearn.over_sampling import SMOTE\n",
    "from sklearn import tree\n",
    "from sklearn import metrics\n",
    "from sklearn.metrics import accuracy_score, confusion_matrix, roc_auc_score, roc_curve\n",
    "from sklearn.cluster import KMeans\n",
    "from sklearn.metrics import silhouette_score\n",
    "from sklearn import datasets\n",
    "from sklearn.tree import DecisionTreeClassifier\n",
    "import graphviz\n",
    "from sklearn.neighbors import KNeighborsClassifier\n",
    "from sklearn.model_selection import cross_val_score\n",
    "from sklearn.metrics import silhouette_score"
   ]
  },
  {
   "cell_type": "markdown",
   "id": "100c1fb3",
   "metadata": {},
   "source": [
    "## LECTURA DE FICHEROS"
   ]
  },
  {
   "cell_type": "code",
   "execution_count": 4,
   "id": "eacbb0ac",
   "metadata": {
    "scrolled": true
   },
   "outputs": [
    {
     "data": {
      "text/html": [
       "<div>\n",
       "<style scoped>\n",
       "    .dataframe tbody tr th:only-of-type {\n",
       "        vertical-align: middle;\n",
       "    }\n",
       "\n",
       "    .dataframe tbody tr th {\n",
       "        vertical-align: top;\n",
       "    }\n",
       "\n",
       "    .dataframe thead th {\n",
       "        text-align: right;\n",
       "    }\n",
       "</style>\n",
       "<table border=\"1\" class=\"dataframe\">\n",
       "  <thead>\n",
       "    <tr style=\"text-align: right;\">\n",
       "      <th></th>\n",
       "      <th>ID</th>\n",
       "      <th>Year_Birth</th>\n",
       "      <th>Education</th>\n",
       "      <th>Marital_Status</th>\n",
       "      <th>Income</th>\n",
       "      <th>Kidhome</th>\n",
       "      <th>Teenhome</th>\n",
       "      <th>Dt_Customer</th>\n",
       "      <th>Recency</th>\n",
       "      <th>MntWines</th>\n",
       "      <th>...</th>\n",
       "      <th>NumStorePurchases</th>\n",
       "      <th>NumWebVisitsMonth</th>\n",
       "      <th>AcceptedCmp3</th>\n",
       "      <th>AcceptedCmp4</th>\n",
       "      <th>AcceptedCmp5</th>\n",
       "      <th>AcceptedCmp1</th>\n",
       "      <th>AcceptedCmp2</th>\n",
       "      <th>Response</th>\n",
       "      <th>Complain</th>\n",
       "      <th>Country</th>\n",
       "    </tr>\n",
       "  </thead>\n",
       "  <tbody>\n",
       "    <tr>\n",
       "      <th>0</th>\n",
       "      <td>1826</td>\n",
       "      <td>1970</td>\n",
       "      <td>Graduation</td>\n",
       "      <td>Divorced</td>\n",
       "      <td>$84,835.00</td>\n",
       "      <td>0</td>\n",
       "      <td>0</td>\n",
       "      <td>6/16/14</td>\n",
       "      <td>0</td>\n",
       "      <td>189</td>\n",
       "      <td>...</td>\n",
       "      <td>6</td>\n",
       "      <td>1</td>\n",
       "      <td>0</td>\n",
       "      <td>0</td>\n",
       "      <td>0</td>\n",
       "      <td>0</td>\n",
       "      <td>0</td>\n",
       "      <td>1</td>\n",
       "      <td>0</td>\n",
       "      <td>SP</td>\n",
       "    </tr>\n",
       "    <tr>\n",
       "      <th>1</th>\n",
       "      <td>1</td>\n",
       "      <td>1961</td>\n",
       "      <td>Graduation</td>\n",
       "      <td>Single</td>\n",
       "      <td>$57,091.00</td>\n",
       "      <td>0</td>\n",
       "      <td>0</td>\n",
       "      <td>6/15/14</td>\n",
       "      <td>0</td>\n",
       "      <td>464</td>\n",
       "      <td>...</td>\n",
       "      <td>7</td>\n",
       "      <td>5</td>\n",
       "      <td>0</td>\n",
       "      <td>0</td>\n",
       "      <td>0</td>\n",
       "      <td>0</td>\n",
       "      <td>1</td>\n",
       "      <td>1</td>\n",
       "      <td>0</td>\n",
       "      <td>CA</td>\n",
       "    </tr>\n",
       "    <tr>\n",
       "      <th>2</th>\n",
       "      <td>10476</td>\n",
       "      <td>1958</td>\n",
       "      <td>Graduation</td>\n",
       "      <td>Married</td>\n",
       "      <td>$67,267.00</td>\n",
       "      <td>0</td>\n",
       "      <td>1</td>\n",
       "      <td>5/13/14</td>\n",
       "      <td>0</td>\n",
       "      <td>134</td>\n",
       "      <td>...</td>\n",
       "      <td>5</td>\n",
       "      <td>2</td>\n",
       "      <td>0</td>\n",
       "      <td>0</td>\n",
       "      <td>0</td>\n",
       "      <td>0</td>\n",
       "      <td>0</td>\n",
       "      <td>0</td>\n",
       "      <td>0</td>\n",
       "      <td>US</td>\n",
       "    </tr>\n",
       "    <tr>\n",
       "      <th>3</th>\n",
       "      <td>1386</td>\n",
       "      <td>1967</td>\n",
       "      <td>Graduation</td>\n",
       "      <td>Together</td>\n",
       "      <td>$32,474.00</td>\n",
       "      <td>1</td>\n",
       "      <td>1</td>\n",
       "      <td>5/11/14</td>\n",
       "      <td>0</td>\n",
       "      <td>10</td>\n",
       "      <td>...</td>\n",
       "      <td>2</td>\n",
       "      <td>7</td>\n",
       "      <td>0</td>\n",
       "      <td>0</td>\n",
       "      <td>0</td>\n",
       "      <td>0</td>\n",
       "      <td>0</td>\n",
       "      <td>0</td>\n",
       "      <td>0</td>\n",
       "      <td>AUS</td>\n",
       "    </tr>\n",
       "    <tr>\n",
       "      <th>4</th>\n",
       "      <td>5371</td>\n",
       "      <td>1989</td>\n",
       "      <td>Graduation</td>\n",
       "      <td>Single</td>\n",
       "      <td>$21,474.00</td>\n",
       "      <td>1</td>\n",
       "      <td>0</td>\n",
       "      <td>4/8/14</td>\n",
       "      <td>0</td>\n",
       "      <td>6</td>\n",
       "      <td>...</td>\n",
       "      <td>2</td>\n",
       "      <td>7</td>\n",
       "      <td>1</td>\n",
       "      <td>0</td>\n",
       "      <td>0</td>\n",
       "      <td>0</td>\n",
       "      <td>0</td>\n",
       "      <td>1</td>\n",
       "      <td>0</td>\n",
       "      <td>SP</td>\n",
       "    </tr>\n",
       "    <tr>\n",
       "      <th>...</th>\n",
       "      <td>...</td>\n",
       "      <td>...</td>\n",
       "      <td>...</td>\n",
       "      <td>...</td>\n",
       "      <td>...</td>\n",
       "      <td>...</td>\n",
       "      <td>...</td>\n",
       "      <td>...</td>\n",
       "      <td>...</td>\n",
       "      <td>...</td>\n",
       "      <td>...</td>\n",
       "      <td>...</td>\n",
       "      <td>...</td>\n",
       "      <td>...</td>\n",
       "      <td>...</td>\n",
       "      <td>...</td>\n",
       "      <td>...</td>\n",
       "      <td>...</td>\n",
       "      <td>...</td>\n",
       "      <td>...</td>\n",
       "      <td>...</td>\n",
       "    </tr>\n",
       "    <tr>\n",
       "      <th>2235</th>\n",
       "      <td>10142</td>\n",
       "      <td>1976</td>\n",
       "      <td>PhD</td>\n",
       "      <td>Divorced</td>\n",
       "      <td>$66,476.00</td>\n",
       "      <td>0</td>\n",
       "      <td>1</td>\n",
       "      <td>3/7/13</td>\n",
       "      <td>99</td>\n",
       "      <td>372</td>\n",
       "      <td>...</td>\n",
       "      <td>11</td>\n",
       "      <td>4</td>\n",
       "      <td>0</td>\n",
       "      <td>0</td>\n",
       "      <td>0</td>\n",
       "      <td>0</td>\n",
       "      <td>0</td>\n",
       "      <td>0</td>\n",
       "      <td>0</td>\n",
       "      <td>US</td>\n",
       "    </tr>\n",
       "    <tr>\n",
       "      <th>2236</th>\n",
       "      <td>5263</td>\n",
       "      <td>1977</td>\n",
       "      <td>2n Cycle</td>\n",
       "      <td>Married</td>\n",
       "      <td>$31,056.00</td>\n",
       "      <td>1</td>\n",
       "      <td>0</td>\n",
       "      <td>1/22/13</td>\n",
       "      <td>99</td>\n",
       "      <td>5</td>\n",
       "      <td>...</td>\n",
       "      <td>3</td>\n",
       "      <td>8</td>\n",
       "      <td>0</td>\n",
       "      <td>0</td>\n",
       "      <td>0</td>\n",
       "      <td>0</td>\n",
       "      <td>0</td>\n",
       "      <td>0</td>\n",
       "      <td>0</td>\n",
       "      <td>SP</td>\n",
       "    </tr>\n",
       "    <tr>\n",
       "      <th>2237</th>\n",
       "      <td>22</td>\n",
       "      <td>1976</td>\n",
       "      <td>Graduation</td>\n",
       "      <td>Divorced</td>\n",
       "      <td>$46,310.00</td>\n",
       "      <td>1</td>\n",
       "      <td>0</td>\n",
       "      <td>12/3/12</td>\n",
       "      <td>99</td>\n",
       "      <td>185</td>\n",
       "      <td>...</td>\n",
       "      <td>5</td>\n",
       "      <td>8</td>\n",
       "      <td>0</td>\n",
       "      <td>0</td>\n",
       "      <td>0</td>\n",
       "      <td>0</td>\n",
       "      <td>0</td>\n",
       "      <td>0</td>\n",
       "      <td>0</td>\n",
       "      <td>SP</td>\n",
       "    </tr>\n",
       "    <tr>\n",
       "      <th>2238</th>\n",
       "      <td>528</td>\n",
       "      <td>1978</td>\n",
       "      <td>Graduation</td>\n",
       "      <td>Married</td>\n",
       "      <td>$65,819.00</td>\n",
       "      <td>0</td>\n",
       "      <td>0</td>\n",
       "      <td>11/29/12</td>\n",
       "      <td>99</td>\n",
       "      <td>267</td>\n",
       "      <td>...</td>\n",
       "      <td>10</td>\n",
       "      <td>3</td>\n",
       "      <td>0</td>\n",
       "      <td>0</td>\n",
       "      <td>0</td>\n",
       "      <td>0</td>\n",
       "      <td>0</td>\n",
       "      <td>0</td>\n",
       "      <td>0</td>\n",
       "      <td>IND</td>\n",
       "    </tr>\n",
       "    <tr>\n",
       "      <th>2239</th>\n",
       "      <td>4070</td>\n",
       "      <td>1969</td>\n",
       "      <td>PhD</td>\n",
       "      <td>Married</td>\n",
       "      <td>$94,871.00</td>\n",
       "      <td>0</td>\n",
       "      <td>2</td>\n",
       "      <td>9/1/12</td>\n",
       "      <td>99</td>\n",
       "      <td>169</td>\n",
       "      <td>...</td>\n",
       "      <td>4</td>\n",
       "      <td>7</td>\n",
       "      <td>0</td>\n",
       "      <td>1</td>\n",
       "      <td>1</td>\n",
       "      <td>0</td>\n",
       "      <td>0</td>\n",
       "      <td>1</td>\n",
       "      <td>0</td>\n",
       "      <td>CA</td>\n",
       "    </tr>\n",
       "  </tbody>\n",
       "</table>\n",
       "<p>2240 rows × 28 columns</p>\n",
       "</div>"
      ],
      "text/plain": [
       "         ID  Year_Birth   Education Marital_Status      Income   Kidhome  \\\n",
       "0      1826        1970  Graduation       Divorced  $84,835.00         0   \n",
       "1         1        1961  Graduation         Single  $57,091.00         0   \n",
       "2     10476        1958  Graduation        Married  $67,267.00         0   \n",
       "3      1386        1967  Graduation       Together  $32,474.00         1   \n",
       "4      5371        1989  Graduation         Single  $21,474.00         1   \n",
       "...     ...         ...         ...            ...          ...      ...   \n",
       "2235  10142        1976         PhD       Divorced  $66,476.00         0   \n",
       "2236   5263        1977    2n Cycle        Married  $31,056.00         1   \n",
       "2237     22        1976  Graduation       Divorced  $46,310.00         1   \n",
       "2238    528        1978  Graduation        Married  $65,819.00         0   \n",
       "2239   4070        1969         PhD        Married  $94,871.00         0   \n",
       "\n",
       "      Teenhome Dt_Customer  Recency  MntWines  ...  NumStorePurchases  \\\n",
       "0            0     6/16/14        0       189  ...                  6   \n",
       "1            0     6/15/14        0       464  ...                  7   \n",
       "2            1     5/13/14        0       134  ...                  5   \n",
       "3            1     5/11/14        0        10  ...                  2   \n",
       "4            0      4/8/14        0         6  ...                  2   \n",
       "...        ...         ...      ...       ...  ...                ...   \n",
       "2235         1      3/7/13       99       372  ...                 11   \n",
       "2236         0     1/22/13       99         5  ...                  3   \n",
       "2237         0     12/3/12       99       185  ...                  5   \n",
       "2238         0    11/29/12       99       267  ...                 10   \n",
       "2239         2      9/1/12       99       169  ...                  4   \n",
       "\n",
       "      NumWebVisitsMonth  AcceptedCmp3  AcceptedCmp4  AcceptedCmp5  \\\n",
       "0                     1             0             0             0   \n",
       "1                     5             0             0             0   \n",
       "2                     2             0             0             0   \n",
       "3                     7             0             0             0   \n",
       "4                     7             1             0             0   \n",
       "...                 ...           ...           ...           ...   \n",
       "2235                  4             0             0             0   \n",
       "2236                  8             0             0             0   \n",
       "2237                  8             0             0             0   \n",
       "2238                  3             0             0             0   \n",
       "2239                  7             0             1             1   \n",
       "\n",
       "      AcceptedCmp1  AcceptedCmp2  Response  Complain  Country  \n",
       "0                0             0         1         0       SP  \n",
       "1                0             1         1         0       CA  \n",
       "2                0             0         0         0       US  \n",
       "3                0             0         0         0      AUS  \n",
       "4                0             0         1         0       SP  \n",
       "...            ...           ...       ...       ...      ...  \n",
       "2235             0             0         0         0       US  \n",
       "2236             0             0         0         0       SP  \n",
       "2237             0             0         0         0       SP  \n",
       "2238             0             0         0         0      IND  \n",
       "2239             0             0         1         0       CA  \n",
       "\n",
       "[2240 rows x 28 columns]"
      ]
     },
     "execution_count": 4,
     "metadata": {},
     "output_type": "execute_result"
    }
   ],
   "source": [
    "#Leer el fichero y ver los datos (Marketing Analytics) para saber con que datos voy a trabajar. A comparación con la otra\n",
    "#base de datos (todas parten de los mismos datos pero una selecciona unas variables y otra otras) esta tiene menos variables\n",
    "#pero tiene la de country.\n",
    "datos = pd.read_csv(\"E:\\\\Master\\\\TFM\\\\marketing_data.csv\", sep=\",\")\n",
    "datos"
   ]
  },
  {
   "cell_type": "code",
   "execution_count": 5,
   "id": "8131cb35",
   "metadata": {},
   "outputs": [
    {
     "name": "stdout",
     "output_type": "stream",
     "text": [
      "Index(['ID', 'Year_Birth', 'Education', 'Marital_Status', ' Income ',\n",
      "       'Kidhome', 'Teenhome', 'Dt_Customer', 'Recency', 'MntWines',\n",
      "       'MntFruits', 'MntMeatProducts', 'MntFishProducts', 'MntSweetProducts',\n",
      "       'MntGoldProds', 'NumDealsPurchases', 'NumWebPurchases',\n",
      "       'NumCatalogPurchases', 'NumStorePurchases', 'NumWebVisitsMonth',\n",
      "       'AcceptedCmp3', 'AcceptedCmp4', 'AcceptedCmp5', 'AcceptedCmp1',\n",
      "       'AcceptedCmp2', 'Response', 'Complain', 'Country'],\n",
      "      dtype='object')\n"
     ]
    }
   ],
   "source": [
    "#Para conocer las columnas que hay en total en el conjunto de datos\n",
    "nombres_columnas = datos.columns\n",
    "print(nombres_columnas)"
   ]
  },
  {
   "cell_type": "code",
   "execution_count": 6,
   "id": "b9c41938",
   "metadata": {},
   "outputs": [
    {
     "name": "stdout",
     "output_type": "stream",
     "text": [
      "<class 'pandas.core.frame.DataFrame'>\n",
      "RangeIndex: 2240 entries, 0 to 2239\n",
      "Data columns (total 28 columns):\n",
      " #   Column               Non-Null Count  Dtype \n",
      "---  ------               --------------  ----- \n",
      " 0   ID                   2240 non-null   int64 \n",
      " 1   Year_Birth           2240 non-null   int64 \n",
      " 2   Education            2240 non-null   object\n",
      " 3   Marital_Status       2240 non-null   object\n",
      " 4    Income              2216 non-null   object\n",
      " 5   Kidhome              2240 non-null   int64 \n",
      " 6   Teenhome             2240 non-null   int64 \n",
      " 7   Dt_Customer          2240 non-null   object\n",
      " 8   Recency              2240 non-null   int64 \n",
      " 9   MntWines             2240 non-null   int64 \n",
      " 10  MntFruits            2240 non-null   int64 \n",
      " 11  MntMeatProducts      2240 non-null   int64 \n",
      " 12  MntFishProducts      2240 non-null   int64 \n",
      " 13  MntSweetProducts     2240 non-null   int64 \n",
      " 14  MntGoldProds         2240 non-null   int64 \n",
      " 15  NumDealsPurchases    2240 non-null   int64 \n",
      " 16  NumWebPurchases      2240 non-null   int64 \n",
      " 17  NumCatalogPurchases  2240 non-null   int64 \n",
      " 18  NumStorePurchases    2240 non-null   int64 \n",
      " 19  NumWebVisitsMonth    2240 non-null   int64 \n",
      " 20  AcceptedCmp3         2240 non-null   int64 \n",
      " 21  AcceptedCmp4         2240 non-null   int64 \n",
      " 22  AcceptedCmp5         2240 non-null   int64 \n",
      " 23  AcceptedCmp1         2240 non-null   int64 \n",
      " 24  AcceptedCmp2         2240 non-null   int64 \n",
      " 25  Response             2240 non-null   int64 \n",
      " 26  Complain             2240 non-null   int64 \n",
      " 27  Country              2240 non-null   object\n",
      "dtypes: int64(23), object(5)\n",
      "memory usage: 490.1+ KB\n"
     ]
    }
   ],
   "source": [
    "#Para saber el tipo de dato con el que se va a trabajar\n",
    "datos.info()"
   ]
  },
  {
   "cell_type": "code",
   "execution_count": 7,
   "id": "d4a3f696",
   "metadata": {},
   "outputs": [
    {
     "data": {
      "text/html": [
       "<div>\n",
       "<style scoped>\n",
       "    .dataframe tbody tr th:only-of-type {\n",
       "        vertical-align: middle;\n",
       "    }\n",
       "\n",
       "    .dataframe tbody tr th {\n",
       "        vertical-align: top;\n",
       "    }\n",
       "\n",
       "    .dataframe thead th {\n",
       "        text-align: right;\n",
       "    }\n",
       "</style>\n",
       "<table border=\"1\" class=\"dataframe\">\n",
       "  <thead>\n",
       "    <tr style=\"text-align: right;\">\n",
       "      <th></th>\n",
       "      <th>ID</th>\n",
       "      <th>Year_Birth</th>\n",
       "      <th>Education</th>\n",
       "      <th>Marital_Status</th>\n",
       "      <th>Income</th>\n",
       "      <th>Kidhome</th>\n",
       "      <th>Teenhome</th>\n",
       "      <th>Dt_Customer</th>\n",
       "      <th>Recency</th>\n",
       "      <th>MntWines</th>\n",
       "      <th>...</th>\n",
       "      <th>NumWebVisitsMonth</th>\n",
       "      <th>AcceptedCmp3</th>\n",
       "      <th>AcceptedCmp4</th>\n",
       "      <th>AcceptedCmp5</th>\n",
       "      <th>AcceptedCmp1</th>\n",
       "      <th>AcceptedCmp2</th>\n",
       "      <th>Complain</th>\n",
       "      <th>Z_CostContact</th>\n",
       "      <th>Z_Revenue</th>\n",
       "      <th>Response</th>\n",
       "    </tr>\n",
       "  </thead>\n",
       "  <tbody>\n",
       "    <tr>\n",
       "      <th>0</th>\n",
       "      <td>5524</td>\n",
       "      <td>1957</td>\n",
       "      <td>Graduation</td>\n",
       "      <td>Single</td>\n",
       "      <td>58138.0</td>\n",
       "      <td>0</td>\n",
       "      <td>0</td>\n",
       "      <td>04-09-2012</td>\n",
       "      <td>58</td>\n",
       "      <td>635</td>\n",
       "      <td>...</td>\n",
       "      <td>7</td>\n",
       "      <td>0</td>\n",
       "      <td>0</td>\n",
       "      <td>0</td>\n",
       "      <td>0</td>\n",
       "      <td>0</td>\n",
       "      <td>0</td>\n",
       "      <td>3</td>\n",
       "      <td>11</td>\n",
       "      <td>1</td>\n",
       "    </tr>\n",
       "    <tr>\n",
       "      <th>1</th>\n",
       "      <td>2174</td>\n",
       "      <td>1954</td>\n",
       "      <td>Graduation</td>\n",
       "      <td>Single</td>\n",
       "      <td>46344.0</td>\n",
       "      <td>1</td>\n",
       "      <td>1</td>\n",
       "      <td>08-03-2014</td>\n",
       "      <td>38</td>\n",
       "      <td>11</td>\n",
       "      <td>...</td>\n",
       "      <td>5</td>\n",
       "      <td>0</td>\n",
       "      <td>0</td>\n",
       "      <td>0</td>\n",
       "      <td>0</td>\n",
       "      <td>0</td>\n",
       "      <td>0</td>\n",
       "      <td>3</td>\n",
       "      <td>11</td>\n",
       "      <td>0</td>\n",
       "    </tr>\n",
       "    <tr>\n",
       "      <th>2</th>\n",
       "      <td>4141</td>\n",
       "      <td>1965</td>\n",
       "      <td>Graduation</td>\n",
       "      <td>Together</td>\n",
       "      <td>71613.0</td>\n",
       "      <td>0</td>\n",
       "      <td>0</td>\n",
       "      <td>21-08-2013</td>\n",
       "      <td>26</td>\n",
       "      <td>426</td>\n",
       "      <td>...</td>\n",
       "      <td>4</td>\n",
       "      <td>0</td>\n",
       "      <td>0</td>\n",
       "      <td>0</td>\n",
       "      <td>0</td>\n",
       "      <td>0</td>\n",
       "      <td>0</td>\n",
       "      <td>3</td>\n",
       "      <td>11</td>\n",
       "      <td>0</td>\n",
       "    </tr>\n",
       "    <tr>\n",
       "      <th>3</th>\n",
       "      <td>6182</td>\n",
       "      <td>1984</td>\n",
       "      <td>Graduation</td>\n",
       "      <td>Together</td>\n",
       "      <td>26646.0</td>\n",
       "      <td>1</td>\n",
       "      <td>0</td>\n",
       "      <td>10-02-2014</td>\n",
       "      <td>26</td>\n",
       "      <td>11</td>\n",
       "      <td>...</td>\n",
       "      <td>6</td>\n",
       "      <td>0</td>\n",
       "      <td>0</td>\n",
       "      <td>0</td>\n",
       "      <td>0</td>\n",
       "      <td>0</td>\n",
       "      <td>0</td>\n",
       "      <td>3</td>\n",
       "      <td>11</td>\n",
       "      <td>0</td>\n",
       "    </tr>\n",
       "    <tr>\n",
       "      <th>4</th>\n",
       "      <td>5324</td>\n",
       "      <td>1981</td>\n",
       "      <td>PhD</td>\n",
       "      <td>Married</td>\n",
       "      <td>58293.0</td>\n",
       "      <td>1</td>\n",
       "      <td>0</td>\n",
       "      <td>19-01-2014</td>\n",
       "      <td>94</td>\n",
       "      <td>173</td>\n",
       "      <td>...</td>\n",
       "      <td>5</td>\n",
       "      <td>0</td>\n",
       "      <td>0</td>\n",
       "      <td>0</td>\n",
       "      <td>0</td>\n",
       "      <td>0</td>\n",
       "      <td>0</td>\n",
       "      <td>3</td>\n",
       "      <td>11</td>\n",
       "      <td>0</td>\n",
       "    </tr>\n",
       "    <tr>\n",
       "      <th>...</th>\n",
       "      <td>...</td>\n",
       "      <td>...</td>\n",
       "      <td>...</td>\n",
       "      <td>...</td>\n",
       "      <td>...</td>\n",
       "      <td>...</td>\n",
       "      <td>...</td>\n",
       "      <td>...</td>\n",
       "      <td>...</td>\n",
       "      <td>...</td>\n",
       "      <td>...</td>\n",
       "      <td>...</td>\n",
       "      <td>...</td>\n",
       "      <td>...</td>\n",
       "      <td>...</td>\n",
       "      <td>...</td>\n",
       "      <td>...</td>\n",
       "      <td>...</td>\n",
       "      <td>...</td>\n",
       "      <td>...</td>\n",
       "      <td>...</td>\n",
       "    </tr>\n",
       "    <tr>\n",
       "      <th>2235</th>\n",
       "      <td>10870</td>\n",
       "      <td>1967</td>\n",
       "      <td>Graduation</td>\n",
       "      <td>Married</td>\n",
       "      <td>61223.0</td>\n",
       "      <td>0</td>\n",
       "      <td>1</td>\n",
       "      <td>13-06-2013</td>\n",
       "      <td>46</td>\n",
       "      <td>709</td>\n",
       "      <td>...</td>\n",
       "      <td>5</td>\n",
       "      <td>0</td>\n",
       "      <td>0</td>\n",
       "      <td>0</td>\n",
       "      <td>0</td>\n",
       "      <td>0</td>\n",
       "      <td>0</td>\n",
       "      <td>3</td>\n",
       "      <td>11</td>\n",
       "      <td>0</td>\n",
       "    </tr>\n",
       "    <tr>\n",
       "      <th>2236</th>\n",
       "      <td>4001</td>\n",
       "      <td>1946</td>\n",
       "      <td>PhD</td>\n",
       "      <td>Together</td>\n",
       "      <td>64014.0</td>\n",
       "      <td>2</td>\n",
       "      <td>1</td>\n",
       "      <td>10-06-2014</td>\n",
       "      <td>56</td>\n",
       "      <td>406</td>\n",
       "      <td>...</td>\n",
       "      <td>7</td>\n",
       "      <td>0</td>\n",
       "      <td>0</td>\n",
       "      <td>0</td>\n",
       "      <td>1</td>\n",
       "      <td>0</td>\n",
       "      <td>0</td>\n",
       "      <td>3</td>\n",
       "      <td>11</td>\n",
       "      <td>0</td>\n",
       "    </tr>\n",
       "    <tr>\n",
       "      <th>2237</th>\n",
       "      <td>7270</td>\n",
       "      <td>1981</td>\n",
       "      <td>Graduation</td>\n",
       "      <td>Divorced</td>\n",
       "      <td>56981.0</td>\n",
       "      <td>0</td>\n",
       "      <td>0</td>\n",
       "      <td>25-01-2014</td>\n",
       "      <td>91</td>\n",
       "      <td>908</td>\n",
       "      <td>...</td>\n",
       "      <td>6</td>\n",
       "      <td>0</td>\n",
       "      <td>1</td>\n",
       "      <td>0</td>\n",
       "      <td>0</td>\n",
       "      <td>0</td>\n",
       "      <td>0</td>\n",
       "      <td>3</td>\n",
       "      <td>11</td>\n",
       "      <td>0</td>\n",
       "    </tr>\n",
       "    <tr>\n",
       "      <th>2238</th>\n",
       "      <td>8235</td>\n",
       "      <td>1956</td>\n",
       "      <td>Master</td>\n",
       "      <td>Together</td>\n",
       "      <td>69245.0</td>\n",
       "      <td>0</td>\n",
       "      <td>1</td>\n",
       "      <td>24-01-2014</td>\n",
       "      <td>8</td>\n",
       "      <td>428</td>\n",
       "      <td>...</td>\n",
       "      <td>3</td>\n",
       "      <td>0</td>\n",
       "      <td>0</td>\n",
       "      <td>0</td>\n",
       "      <td>0</td>\n",
       "      <td>0</td>\n",
       "      <td>0</td>\n",
       "      <td>3</td>\n",
       "      <td>11</td>\n",
       "      <td>0</td>\n",
       "    </tr>\n",
       "    <tr>\n",
       "      <th>2239</th>\n",
       "      <td>9405</td>\n",
       "      <td>1954</td>\n",
       "      <td>PhD</td>\n",
       "      <td>Married</td>\n",
       "      <td>52869.0</td>\n",
       "      <td>1</td>\n",
       "      <td>1</td>\n",
       "      <td>15-10-2012</td>\n",
       "      <td>40</td>\n",
       "      <td>84</td>\n",
       "      <td>...</td>\n",
       "      <td>7</td>\n",
       "      <td>0</td>\n",
       "      <td>0</td>\n",
       "      <td>0</td>\n",
       "      <td>0</td>\n",
       "      <td>0</td>\n",
       "      <td>0</td>\n",
       "      <td>3</td>\n",
       "      <td>11</td>\n",
       "      <td>1</td>\n",
       "    </tr>\n",
       "  </tbody>\n",
       "</table>\n",
       "<p>2240 rows × 29 columns</p>\n",
       "</div>"
      ],
      "text/plain": [
       "         ID  Year_Birth   Education Marital_Status   Income  Kidhome  \\\n",
       "0      5524        1957  Graduation         Single  58138.0        0   \n",
       "1      2174        1954  Graduation         Single  46344.0        1   \n",
       "2      4141        1965  Graduation       Together  71613.0        0   \n",
       "3      6182        1984  Graduation       Together  26646.0        1   \n",
       "4      5324        1981         PhD        Married  58293.0        1   \n",
       "...     ...         ...         ...            ...      ...      ...   \n",
       "2235  10870        1967  Graduation        Married  61223.0        0   \n",
       "2236   4001        1946         PhD       Together  64014.0        2   \n",
       "2237   7270        1981  Graduation       Divorced  56981.0        0   \n",
       "2238   8235        1956      Master       Together  69245.0        0   \n",
       "2239   9405        1954         PhD        Married  52869.0        1   \n",
       "\n",
       "      Teenhome Dt_Customer  Recency  MntWines  ...  NumWebVisitsMonth  \\\n",
       "0            0  04-09-2012       58       635  ...                  7   \n",
       "1            1  08-03-2014       38        11  ...                  5   \n",
       "2            0  21-08-2013       26       426  ...                  4   \n",
       "3            0  10-02-2014       26        11  ...                  6   \n",
       "4            0  19-01-2014       94       173  ...                  5   \n",
       "...        ...         ...      ...       ...  ...                ...   \n",
       "2235         1  13-06-2013       46       709  ...                  5   \n",
       "2236         1  10-06-2014       56       406  ...                  7   \n",
       "2237         0  25-01-2014       91       908  ...                  6   \n",
       "2238         1  24-01-2014        8       428  ...                  3   \n",
       "2239         1  15-10-2012       40        84  ...                  7   \n",
       "\n",
       "      AcceptedCmp3  AcceptedCmp4  AcceptedCmp5  AcceptedCmp1  AcceptedCmp2  \\\n",
       "0                0             0             0             0             0   \n",
       "1                0             0             0             0             0   \n",
       "2                0             0             0             0             0   \n",
       "3                0             0             0             0             0   \n",
       "4                0             0             0             0             0   \n",
       "...            ...           ...           ...           ...           ...   \n",
       "2235             0             0             0             0             0   \n",
       "2236             0             0             0             1             0   \n",
       "2237             0             1             0             0             0   \n",
       "2238             0             0             0             0             0   \n",
       "2239             0             0             0             0             0   \n",
       "\n",
       "      Complain  Z_CostContact  Z_Revenue  Response  \n",
       "0            0              3         11         1  \n",
       "1            0              3         11         0  \n",
       "2            0              3         11         0  \n",
       "3            0              3         11         0  \n",
       "4            0              3         11         0  \n",
       "...        ...            ...        ...       ...  \n",
       "2235         0              3         11         0  \n",
       "2236         0              3         11         0  \n",
       "2237         0              3         11         0  \n",
       "2238         0              3         11         0  \n",
       "2239         0              3         11         1  \n",
       "\n",
       "[2240 rows x 29 columns]"
      ]
     },
     "execution_count": 7,
     "metadata": {},
     "output_type": "execute_result"
    }
   ],
   "source": [
    "#estos datos(marketing campaign) tienen dos columnas que la otra base de datos no tiene, le falta la columna country. \n",
    "datos1= pd.read_csv(\"E:\\\\Master\\\\TFM\\\\marketing_campaign.csv\", sep=\"\\t\")\n",
    "datos1"
   ]
  },
  {
   "cell_type": "code",
   "execution_count": 8,
   "id": "4464ac79",
   "metadata": {},
   "outputs": [
    {
     "name": "stdout",
     "output_type": "stream",
     "text": [
      "<class 'pandas.core.frame.DataFrame'>\n",
      "RangeIndex: 2240 entries, 0 to 2239\n",
      "Data columns (total 29 columns):\n",
      " #   Column               Non-Null Count  Dtype  \n",
      "---  ------               --------------  -----  \n",
      " 0   ID                   2240 non-null   int64  \n",
      " 1   Year_Birth           2240 non-null   int64  \n",
      " 2   Education            2240 non-null   object \n",
      " 3   Marital_Status       2240 non-null   object \n",
      " 4   Income               2216 non-null   float64\n",
      " 5   Kidhome              2240 non-null   int64  \n",
      " 6   Teenhome             2240 non-null   int64  \n",
      " 7   Dt_Customer          2240 non-null   object \n",
      " 8   Recency              2240 non-null   int64  \n",
      " 9   MntWines             2240 non-null   int64  \n",
      " 10  MntFruits            2240 non-null   int64  \n",
      " 11  MntMeatProducts      2240 non-null   int64  \n",
      " 12  MntFishProducts      2240 non-null   int64  \n",
      " 13  MntSweetProducts     2240 non-null   int64  \n",
      " 14  MntGoldProds         2240 non-null   int64  \n",
      " 15  NumDealsPurchases    2240 non-null   int64  \n",
      " 16  NumWebPurchases      2240 non-null   int64  \n",
      " 17  NumCatalogPurchases  2240 non-null   int64  \n",
      " 18  NumStorePurchases    2240 non-null   int64  \n",
      " 19  NumWebVisitsMonth    2240 non-null   int64  \n",
      " 20  AcceptedCmp3         2240 non-null   int64  \n",
      " 21  AcceptedCmp4         2240 non-null   int64  \n",
      " 22  AcceptedCmp5         2240 non-null   int64  \n",
      " 23  AcceptedCmp1         2240 non-null   int64  \n",
      " 24  AcceptedCmp2         2240 non-null   int64  \n",
      " 25  Complain             2240 non-null   int64  \n",
      " 26  Z_CostContact        2240 non-null   int64  \n",
      " 27  Z_Revenue            2240 non-null   int64  \n",
      " 28  Response             2240 non-null   int64  \n",
      "dtypes: float64(1), int64(25), object(3)\n",
      "memory usage: 507.6+ KB\n"
     ]
    }
   ],
   "source": [
    "#Para comprobar el tipo de dato\n",
    "datos1.info()"
   ]
  },
  {
   "cell_type": "markdown",
   "id": "9104221e",
   "metadata": {},
   "source": [
    "## TRATAMIENTO DE LA BASE DE DATOS"
   ]
  },
  {
   "cell_type": "markdown",
   "id": "f97dc96b",
   "metadata": {},
   "source": [
    "#### UNIFICACIÓN DE AMBAS BASES"
   ]
  },
  {
   "cell_type": "code",
   "execution_count": 9,
   "id": "787d788d",
   "metadata": {},
   "outputs": [],
   "source": [
    "# Antes de tratar los datos, se ha realizado una unificación de bases para que la que se va a utilziar tenga todas las columnas\n",
    "# Combinación de las bases de datos en función de la columna ID, que es la clave primaria qu los une y se ha añadido al final\n",
    "combinacion= pd.merge(datos1, datos[['ID', 'Country']], on='ID', how='left')\n",
    "\n",
    "# Se copia la columna Country de la base de datos original a la nueva base de datos\n",
    "datos1['Country'] = combinacion['Country']\n",
    "\n",
    "# Guardado de la nueva base de datos en un archivo CSV\n",
    "datos1.to_csv('nueva.csv', index=False)"
   ]
  },
  {
   "cell_type": "code",
   "execution_count": 10,
   "id": "d4e18db5",
   "metadata": {},
   "outputs": [
    {
     "data": {
      "text/html": [
       "<div>\n",
       "<style scoped>\n",
       "    .dataframe tbody tr th:only-of-type {\n",
       "        vertical-align: middle;\n",
       "    }\n",
       "\n",
       "    .dataframe tbody tr th {\n",
       "        vertical-align: top;\n",
       "    }\n",
       "\n",
       "    .dataframe thead th {\n",
       "        text-align: right;\n",
       "    }\n",
       "</style>\n",
       "<table border=\"1\" class=\"dataframe\">\n",
       "  <thead>\n",
       "    <tr style=\"text-align: right;\">\n",
       "      <th></th>\n",
       "      <th>ID</th>\n",
       "      <th>Year_Birth</th>\n",
       "      <th>Education</th>\n",
       "      <th>Marital_Status</th>\n",
       "      <th>Income</th>\n",
       "      <th>Kidhome</th>\n",
       "      <th>Teenhome</th>\n",
       "      <th>Dt_Customer</th>\n",
       "      <th>Recency</th>\n",
       "      <th>MntWines</th>\n",
       "      <th>...</th>\n",
       "      <th>AcceptedCmp3</th>\n",
       "      <th>AcceptedCmp4</th>\n",
       "      <th>AcceptedCmp5</th>\n",
       "      <th>AcceptedCmp1</th>\n",
       "      <th>AcceptedCmp2</th>\n",
       "      <th>Complain</th>\n",
       "      <th>Z_CostContact</th>\n",
       "      <th>Z_Revenue</th>\n",
       "      <th>Response</th>\n",
       "      <th>Country</th>\n",
       "    </tr>\n",
       "  </thead>\n",
       "  <tbody>\n",
       "    <tr>\n",
       "      <th>0</th>\n",
       "      <td>5524</td>\n",
       "      <td>1957</td>\n",
       "      <td>Graduation</td>\n",
       "      <td>Single</td>\n",
       "      <td>58138.0</td>\n",
       "      <td>0</td>\n",
       "      <td>0</td>\n",
       "      <td>04-09-2012</td>\n",
       "      <td>58</td>\n",
       "      <td>635</td>\n",
       "      <td>...</td>\n",
       "      <td>0</td>\n",
       "      <td>0</td>\n",
       "      <td>0</td>\n",
       "      <td>0</td>\n",
       "      <td>0</td>\n",
       "      <td>0</td>\n",
       "      <td>3</td>\n",
       "      <td>11</td>\n",
       "      <td>1</td>\n",
       "      <td>US</td>\n",
       "    </tr>\n",
       "    <tr>\n",
       "      <th>1</th>\n",
       "      <td>2174</td>\n",
       "      <td>1954</td>\n",
       "      <td>Graduation</td>\n",
       "      <td>Single</td>\n",
       "      <td>46344.0</td>\n",
       "      <td>1</td>\n",
       "      <td>1</td>\n",
       "      <td>08-03-2014</td>\n",
       "      <td>38</td>\n",
       "      <td>11</td>\n",
       "      <td>...</td>\n",
       "      <td>0</td>\n",
       "      <td>0</td>\n",
       "      <td>0</td>\n",
       "      <td>0</td>\n",
       "      <td>0</td>\n",
       "      <td>0</td>\n",
       "      <td>3</td>\n",
       "      <td>11</td>\n",
       "      <td>0</td>\n",
       "      <td>US</td>\n",
       "    </tr>\n",
       "    <tr>\n",
       "      <th>2</th>\n",
       "      <td>4141</td>\n",
       "      <td>1965</td>\n",
       "      <td>Graduation</td>\n",
       "      <td>Together</td>\n",
       "      <td>71613.0</td>\n",
       "      <td>0</td>\n",
       "      <td>0</td>\n",
       "      <td>21-08-2013</td>\n",
       "      <td>26</td>\n",
       "      <td>426</td>\n",
       "      <td>...</td>\n",
       "      <td>0</td>\n",
       "      <td>0</td>\n",
       "      <td>0</td>\n",
       "      <td>0</td>\n",
       "      <td>0</td>\n",
       "      <td>0</td>\n",
       "      <td>3</td>\n",
       "      <td>11</td>\n",
       "      <td>0</td>\n",
       "      <td>US</td>\n",
       "    </tr>\n",
       "    <tr>\n",
       "      <th>3</th>\n",
       "      <td>6182</td>\n",
       "      <td>1984</td>\n",
       "      <td>Graduation</td>\n",
       "      <td>Together</td>\n",
       "      <td>26646.0</td>\n",
       "      <td>1</td>\n",
       "      <td>0</td>\n",
       "      <td>10-02-2014</td>\n",
       "      <td>26</td>\n",
       "      <td>11</td>\n",
       "      <td>...</td>\n",
       "      <td>0</td>\n",
       "      <td>0</td>\n",
       "      <td>0</td>\n",
       "      <td>0</td>\n",
       "      <td>0</td>\n",
       "      <td>0</td>\n",
       "      <td>3</td>\n",
       "      <td>11</td>\n",
       "      <td>0</td>\n",
       "      <td>US</td>\n",
       "    </tr>\n",
       "    <tr>\n",
       "      <th>4</th>\n",
       "      <td>5324</td>\n",
       "      <td>1981</td>\n",
       "      <td>PhD</td>\n",
       "      <td>Married</td>\n",
       "      <td>58293.0</td>\n",
       "      <td>1</td>\n",
       "      <td>0</td>\n",
       "      <td>19-01-2014</td>\n",
       "      <td>94</td>\n",
       "      <td>173</td>\n",
       "      <td>...</td>\n",
       "      <td>0</td>\n",
       "      <td>0</td>\n",
       "      <td>0</td>\n",
       "      <td>0</td>\n",
       "      <td>0</td>\n",
       "      <td>0</td>\n",
       "      <td>3</td>\n",
       "      <td>11</td>\n",
       "      <td>0</td>\n",
       "      <td>US</td>\n",
       "    </tr>\n",
       "    <tr>\n",
       "      <th>...</th>\n",
       "      <td>...</td>\n",
       "      <td>...</td>\n",
       "      <td>...</td>\n",
       "      <td>...</td>\n",
       "      <td>...</td>\n",
       "      <td>...</td>\n",
       "      <td>...</td>\n",
       "      <td>...</td>\n",
       "      <td>...</td>\n",
       "      <td>...</td>\n",
       "      <td>...</td>\n",
       "      <td>...</td>\n",
       "      <td>...</td>\n",
       "      <td>...</td>\n",
       "      <td>...</td>\n",
       "      <td>...</td>\n",
       "      <td>...</td>\n",
       "      <td>...</td>\n",
       "      <td>...</td>\n",
       "      <td>...</td>\n",
       "      <td>...</td>\n",
       "    </tr>\n",
       "    <tr>\n",
       "      <th>2235</th>\n",
       "      <td>10870</td>\n",
       "      <td>1967</td>\n",
       "      <td>Graduation</td>\n",
       "      <td>Married</td>\n",
       "      <td>61223.0</td>\n",
       "      <td>0</td>\n",
       "      <td>1</td>\n",
       "      <td>13-06-2013</td>\n",
       "      <td>46</td>\n",
       "      <td>709</td>\n",
       "      <td>...</td>\n",
       "      <td>0</td>\n",
       "      <td>0</td>\n",
       "      <td>0</td>\n",
       "      <td>0</td>\n",
       "      <td>0</td>\n",
       "      <td>0</td>\n",
       "      <td>3</td>\n",
       "      <td>11</td>\n",
       "      <td>0</td>\n",
       "      <td>SA</td>\n",
       "    </tr>\n",
       "    <tr>\n",
       "      <th>2236</th>\n",
       "      <td>4001</td>\n",
       "      <td>1946</td>\n",
       "      <td>PhD</td>\n",
       "      <td>Together</td>\n",
       "      <td>64014.0</td>\n",
       "      <td>2</td>\n",
       "      <td>1</td>\n",
       "      <td>10-06-2014</td>\n",
       "      <td>56</td>\n",
       "      <td>406</td>\n",
       "      <td>...</td>\n",
       "      <td>0</td>\n",
       "      <td>0</td>\n",
       "      <td>0</td>\n",
       "      <td>1</td>\n",
       "      <td>0</td>\n",
       "      <td>0</td>\n",
       "      <td>3</td>\n",
       "      <td>11</td>\n",
       "      <td>0</td>\n",
       "      <td>SA</td>\n",
       "    </tr>\n",
       "    <tr>\n",
       "      <th>2237</th>\n",
       "      <td>7270</td>\n",
       "      <td>1981</td>\n",
       "      <td>Graduation</td>\n",
       "      <td>Divorced</td>\n",
       "      <td>56981.0</td>\n",
       "      <td>0</td>\n",
       "      <td>0</td>\n",
       "      <td>25-01-2014</td>\n",
       "      <td>91</td>\n",
       "      <td>908</td>\n",
       "      <td>...</td>\n",
       "      <td>0</td>\n",
       "      <td>1</td>\n",
       "      <td>0</td>\n",
       "      <td>0</td>\n",
       "      <td>0</td>\n",
       "      <td>0</td>\n",
       "      <td>3</td>\n",
       "      <td>11</td>\n",
       "      <td>0</td>\n",
       "      <td>SA</td>\n",
       "    </tr>\n",
       "    <tr>\n",
       "      <th>2238</th>\n",
       "      <td>8235</td>\n",
       "      <td>1956</td>\n",
       "      <td>Master</td>\n",
       "      <td>Together</td>\n",
       "      <td>69245.0</td>\n",
       "      <td>0</td>\n",
       "      <td>1</td>\n",
       "      <td>24-01-2014</td>\n",
       "      <td>8</td>\n",
       "      <td>428</td>\n",
       "      <td>...</td>\n",
       "      <td>0</td>\n",
       "      <td>0</td>\n",
       "      <td>0</td>\n",
       "      <td>0</td>\n",
       "      <td>0</td>\n",
       "      <td>0</td>\n",
       "      <td>3</td>\n",
       "      <td>11</td>\n",
       "      <td>0</td>\n",
       "      <td>SA</td>\n",
       "    </tr>\n",
       "    <tr>\n",
       "      <th>2239</th>\n",
       "      <td>9405</td>\n",
       "      <td>1954</td>\n",
       "      <td>PhD</td>\n",
       "      <td>Married</td>\n",
       "      <td>52869.0</td>\n",
       "      <td>1</td>\n",
       "      <td>1</td>\n",
       "      <td>15-10-2012</td>\n",
       "      <td>40</td>\n",
       "      <td>84</td>\n",
       "      <td>...</td>\n",
       "      <td>0</td>\n",
       "      <td>0</td>\n",
       "      <td>0</td>\n",
       "      <td>0</td>\n",
       "      <td>0</td>\n",
       "      <td>0</td>\n",
       "      <td>3</td>\n",
       "      <td>11</td>\n",
       "      <td>1</td>\n",
       "      <td>SA</td>\n",
       "    </tr>\n",
       "  </tbody>\n",
       "</table>\n",
       "<p>2240 rows × 30 columns</p>\n",
       "</div>"
      ],
      "text/plain": [
       "         ID  Year_Birth   Education Marital_Status   Income  Kidhome  \\\n",
       "0      5524        1957  Graduation         Single  58138.0        0   \n",
       "1      2174        1954  Graduation         Single  46344.0        1   \n",
       "2      4141        1965  Graduation       Together  71613.0        0   \n",
       "3      6182        1984  Graduation       Together  26646.0        1   \n",
       "4      5324        1981         PhD        Married  58293.0        1   \n",
       "...     ...         ...         ...            ...      ...      ...   \n",
       "2235  10870        1967  Graduation        Married  61223.0        0   \n",
       "2236   4001        1946         PhD       Together  64014.0        2   \n",
       "2237   7270        1981  Graduation       Divorced  56981.0        0   \n",
       "2238   8235        1956      Master       Together  69245.0        0   \n",
       "2239   9405        1954         PhD        Married  52869.0        1   \n",
       "\n",
       "      Teenhome Dt_Customer  Recency  MntWines  ...  AcceptedCmp3  \\\n",
       "0            0  04-09-2012       58       635  ...             0   \n",
       "1            1  08-03-2014       38        11  ...             0   \n",
       "2            0  21-08-2013       26       426  ...             0   \n",
       "3            0  10-02-2014       26        11  ...             0   \n",
       "4            0  19-01-2014       94       173  ...             0   \n",
       "...        ...         ...      ...       ...  ...           ...   \n",
       "2235         1  13-06-2013       46       709  ...             0   \n",
       "2236         1  10-06-2014       56       406  ...             0   \n",
       "2237         0  25-01-2014       91       908  ...             0   \n",
       "2238         1  24-01-2014        8       428  ...             0   \n",
       "2239         1  15-10-2012       40        84  ...             0   \n",
       "\n",
       "      AcceptedCmp4  AcceptedCmp5  AcceptedCmp1  AcceptedCmp2  Complain  \\\n",
       "0                0             0             0             0         0   \n",
       "1                0             0             0             0         0   \n",
       "2                0             0             0             0         0   \n",
       "3                0             0             0             0         0   \n",
       "4                0             0             0             0         0   \n",
       "...            ...           ...           ...           ...       ...   \n",
       "2235             0             0             0             0         0   \n",
       "2236             0             0             1             0         0   \n",
       "2237             1             0             0             0         0   \n",
       "2238             0             0             0             0         0   \n",
       "2239             0             0             0             0         0   \n",
       "\n",
       "      Z_CostContact  Z_Revenue  Response  Country  \n",
       "0                 3         11         1       US  \n",
       "1                 3         11         0       US  \n",
       "2                 3         11         0       US  \n",
       "3                 3         11         0       US  \n",
       "4                 3         11         0       US  \n",
       "...             ...        ...       ...      ...  \n",
       "2235              3         11         0       SA  \n",
       "2236              3         11         0       SA  \n",
       "2237              3         11         0       SA  \n",
       "2238              3         11         0       SA  \n",
       "2239              3         11         1       SA  \n",
       "\n",
       "[2240 rows x 30 columns]"
      ]
     },
     "execution_count": 10,
     "metadata": {},
     "output_type": "execute_result"
    }
   ],
   "source": [
    "# Para comprobar que todo se ha guardado correctamente y que están bien los datos que se van a utilizar\n",
    "combinacion"
   ]
  },
  {
   "cell_type": "code",
   "execution_count": 11,
   "id": "9cbfd922",
   "metadata": {},
   "outputs": [
    {
     "data": {
      "text/html": [
       "<div>\n",
       "<style scoped>\n",
       "    .dataframe tbody tr th:only-of-type {\n",
       "        vertical-align: middle;\n",
       "    }\n",
       "\n",
       "    .dataframe tbody tr th {\n",
       "        vertical-align: top;\n",
       "    }\n",
       "\n",
       "    .dataframe thead th {\n",
       "        text-align: right;\n",
       "    }\n",
       "</style>\n",
       "<table border=\"1\" class=\"dataframe\">\n",
       "  <thead>\n",
       "    <tr style=\"text-align: right;\">\n",
       "      <th></th>\n",
       "      <th>ID</th>\n",
       "      <th>Year_Birth</th>\n",
       "      <th>Education</th>\n",
       "      <th>Marital_Status</th>\n",
       "      <th>Income</th>\n",
       "      <th>Kidhome</th>\n",
       "      <th>Teenhome</th>\n",
       "      <th>Dt_Customer</th>\n",
       "      <th>Recency</th>\n",
       "      <th>MntWines</th>\n",
       "      <th>...</th>\n",
       "      <th>AcceptedCmp3</th>\n",
       "      <th>AcceptedCmp4</th>\n",
       "      <th>AcceptedCmp5</th>\n",
       "      <th>AcceptedCmp1</th>\n",
       "      <th>AcceptedCmp2</th>\n",
       "      <th>Complain</th>\n",
       "      <th>Z_CostContact</th>\n",
       "      <th>Z_Revenue</th>\n",
       "      <th>Response</th>\n",
       "      <th>Country</th>\n",
       "    </tr>\n",
       "  </thead>\n",
       "  <tbody>\n",
       "    <tr>\n",
       "      <th>0</th>\n",
       "      <td>5524</td>\n",
       "      <td>1957</td>\n",
       "      <td>Graduation</td>\n",
       "      <td>Single</td>\n",
       "      <td>58138.0</td>\n",
       "      <td>0</td>\n",
       "      <td>0</td>\n",
       "      <td>04-09-2012</td>\n",
       "      <td>58</td>\n",
       "      <td>635</td>\n",
       "      <td>...</td>\n",
       "      <td>0</td>\n",
       "      <td>0</td>\n",
       "      <td>0</td>\n",
       "      <td>0</td>\n",
       "      <td>0</td>\n",
       "      <td>0</td>\n",
       "      <td>3</td>\n",
       "      <td>11</td>\n",
       "      <td>1</td>\n",
       "      <td>US</td>\n",
       "    </tr>\n",
       "    <tr>\n",
       "      <th>1</th>\n",
       "      <td>2174</td>\n",
       "      <td>1954</td>\n",
       "      <td>Graduation</td>\n",
       "      <td>Single</td>\n",
       "      <td>46344.0</td>\n",
       "      <td>1</td>\n",
       "      <td>1</td>\n",
       "      <td>08-03-2014</td>\n",
       "      <td>38</td>\n",
       "      <td>11</td>\n",
       "      <td>...</td>\n",
       "      <td>0</td>\n",
       "      <td>0</td>\n",
       "      <td>0</td>\n",
       "      <td>0</td>\n",
       "      <td>0</td>\n",
       "      <td>0</td>\n",
       "      <td>3</td>\n",
       "      <td>11</td>\n",
       "      <td>0</td>\n",
       "      <td>US</td>\n",
       "    </tr>\n",
       "    <tr>\n",
       "      <th>2</th>\n",
       "      <td>4141</td>\n",
       "      <td>1965</td>\n",
       "      <td>Graduation</td>\n",
       "      <td>Together</td>\n",
       "      <td>71613.0</td>\n",
       "      <td>0</td>\n",
       "      <td>0</td>\n",
       "      <td>21-08-2013</td>\n",
       "      <td>26</td>\n",
       "      <td>426</td>\n",
       "      <td>...</td>\n",
       "      <td>0</td>\n",
       "      <td>0</td>\n",
       "      <td>0</td>\n",
       "      <td>0</td>\n",
       "      <td>0</td>\n",
       "      <td>0</td>\n",
       "      <td>3</td>\n",
       "      <td>11</td>\n",
       "      <td>0</td>\n",
       "      <td>US</td>\n",
       "    </tr>\n",
       "    <tr>\n",
       "      <th>3</th>\n",
       "      <td>6182</td>\n",
       "      <td>1984</td>\n",
       "      <td>Graduation</td>\n",
       "      <td>Together</td>\n",
       "      <td>26646.0</td>\n",
       "      <td>1</td>\n",
       "      <td>0</td>\n",
       "      <td>10-02-2014</td>\n",
       "      <td>26</td>\n",
       "      <td>11</td>\n",
       "      <td>...</td>\n",
       "      <td>0</td>\n",
       "      <td>0</td>\n",
       "      <td>0</td>\n",
       "      <td>0</td>\n",
       "      <td>0</td>\n",
       "      <td>0</td>\n",
       "      <td>3</td>\n",
       "      <td>11</td>\n",
       "      <td>0</td>\n",
       "      <td>US</td>\n",
       "    </tr>\n",
       "    <tr>\n",
       "      <th>4</th>\n",
       "      <td>5324</td>\n",
       "      <td>1981</td>\n",
       "      <td>PhD</td>\n",
       "      <td>Married</td>\n",
       "      <td>58293.0</td>\n",
       "      <td>1</td>\n",
       "      <td>0</td>\n",
       "      <td>19-01-2014</td>\n",
       "      <td>94</td>\n",
       "      <td>173</td>\n",
       "      <td>...</td>\n",
       "      <td>0</td>\n",
       "      <td>0</td>\n",
       "      <td>0</td>\n",
       "      <td>0</td>\n",
       "      <td>0</td>\n",
       "      <td>0</td>\n",
       "      <td>3</td>\n",
       "      <td>11</td>\n",
       "      <td>0</td>\n",
       "      <td>US</td>\n",
       "    </tr>\n",
       "    <tr>\n",
       "      <th>...</th>\n",
       "      <td>...</td>\n",
       "      <td>...</td>\n",
       "      <td>...</td>\n",
       "      <td>...</td>\n",
       "      <td>...</td>\n",
       "      <td>...</td>\n",
       "      <td>...</td>\n",
       "      <td>...</td>\n",
       "      <td>...</td>\n",
       "      <td>...</td>\n",
       "      <td>...</td>\n",
       "      <td>...</td>\n",
       "      <td>...</td>\n",
       "      <td>...</td>\n",
       "      <td>...</td>\n",
       "      <td>...</td>\n",
       "      <td>...</td>\n",
       "      <td>...</td>\n",
       "      <td>...</td>\n",
       "      <td>...</td>\n",
       "      <td>...</td>\n",
       "    </tr>\n",
       "    <tr>\n",
       "      <th>2235</th>\n",
       "      <td>10870</td>\n",
       "      <td>1967</td>\n",
       "      <td>Graduation</td>\n",
       "      <td>Married</td>\n",
       "      <td>61223.0</td>\n",
       "      <td>0</td>\n",
       "      <td>1</td>\n",
       "      <td>13-06-2013</td>\n",
       "      <td>46</td>\n",
       "      <td>709</td>\n",
       "      <td>...</td>\n",
       "      <td>0</td>\n",
       "      <td>0</td>\n",
       "      <td>0</td>\n",
       "      <td>0</td>\n",
       "      <td>0</td>\n",
       "      <td>0</td>\n",
       "      <td>3</td>\n",
       "      <td>11</td>\n",
       "      <td>0</td>\n",
       "      <td>SA</td>\n",
       "    </tr>\n",
       "    <tr>\n",
       "      <th>2236</th>\n",
       "      <td>4001</td>\n",
       "      <td>1946</td>\n",
       "      <td>PhD</td>\n",
       "      <td>Together</td>\n",
       "      <td>64014.0</td>\n",
       "      <td>2</td>\n",
       "      <td>1</td>\n",
       "      <td>10-06-2014</td>\n",
       "      <td>56</td>\n",
       "      <td>406</td>\n",
       "      <td>...</td>\n",
       "      <td>0</td>\n",
       "      <td>0</td>\n",
       "      <td>0</td>\n",
       "      <td>1</td>\n",
       "      <td>0</td>\n",
       "      <td>0</td>\n",
       "      <td>3</td>\n",
       "      <td>11</td>\n",
       "      <td>0</td>\n",
       "      <td>SA</td>\n",
       "    </tr>\n",
       "    <tr>\n",
       "      <th>2237</th>\n",
       "      <td>7270</td>\n",
       "      <td>1981</td>\n",
       "      <td>Graduation</td>\n",
       "      <td>Divorced</td>\n",
       "      <td>56981.0</td>\n",
       "      <td>0</td>\n",
       "      <td>0</td>\n",
       "      <td>25-01-2014</td>\n",
       "      <td>91</td>\n",
       "      <td>908</td>\n",
       "      <td>...</td>\n",
       "      <td>0</td>\n",
       "      <td>1</td>\n",
       "      <td>0</td>\n",
       "      <td>0</td>\n",
       "      <td>0</td>\n",
       "      <td>0</td>\n",
       "      <td>3</td>\n",
       "      <td>11</td>\n",
       "      <td>0</td>\n",
       "      <td>SA</td>\n",
       "    </tr>\n",
       "    <tr>\n",
       "      <th>2238</th>\n",
       "      <td>8235</td>\n",
       "      <td>1956</td>\n",
       "      <td>Master</td>\n",
       "      <td>Together</td>\n",
       "      <td>69245.0</td>\n",
       "      <td>0</td>\n",
       "      <td>1</td>\n",
       "      <td>24-01-2014</td>\n",
       "      <td>8</td>\n",
       "      <td>428</td>\n",
       "      <td>...</td>\n",
       "      <td>0</td>\n",
       "      <td>0</td>\n",
       "      <td>0</td>\n",
       "      <td>0</td>\n",
       "      <td>0</td>\n",
       "      <td>0</td>\n",
       "      <td>3</td>\n",
       "      <td>11</td>\n",
       "      <td>0</td>\n",
       "      <td>SA</td>\n",
       "    </tr>\n",
       "    <tr>\n",
       "      <th>2239</th>\n",
       "      <td>9405</td>\n",
       "      <td>1954</td>\n",
       "      <td>PhD</td>\n",
       "      <td>Married</td>\n",
       "      <td>52869.0</td>\n",
       "      <td>1</td>\n",
       "      <td>1</td>\n",
       "      <td>15-10-2012</td>\n",
       "      <td>40</td>\n",
       "      <td>84</td>\n",
       "      <td>...</td>\n",
       "      <td>0</td>\n",
       "      <td>0</td>\n",
       "      <td>0</td>\n",
       "      <td>0</td>\n",
       "      <td>0</td>\n",
       "      <td>0</td>\n",
       "      <td>3</td>\n",
       "      <td>11</td>\n",
       "      <td>1</td>\n",
       "      <td>SA</td>\n",
       "    </tr>\n",
       "  </tbody>\n",
       "</table>\n",
       "<p>2240 rows × 30 columns</p>\n",
       "</div>"
      ],
      "text/plain": [
       "         ID  Year_Birth   Education Marital_Status   Income  Kidhome  \\\n",
       "0      5524        1957  Graduation         Single  58138.0        0   \n",
       "1      2174        1954  Graduation         Single  46344.0        1   \n",
       "2      4141        1965  Graduation       Together  71613.0        0   \n",
       "3      6182        1984  Graduation       Together  26646.0        1   \n",
       "4      5324        1981         PhD        Married  58293.0        1   \n",
       "...     ...         ...         ...            ...      ...      ...   \n",
       "2235  10870        1967  Graduation        Married  61223.0        0   \n",
       "2236   4001        1946         PhD       Together  64014.0        2   \n",
       "2237   7270        1981  Graduation       Divorced  56981.0        0   \n",
       "2238   8235        1956      Master       Together  69245.0        0   \n",
       "2239   9405        1954         PhD        Married  52869.0        1   \n",
       "\n",
       "      Teenhome Dt_Customer  Recency  MntWines  ...  AcceptedCmp3  \\\n",
       "0            0  04-09-2012       58       635  ...             0   \n",
       "1            1  08-03-2014       38        11  ...             0   \n",
       "2            0  21-08-2013       26       426  ...             0   \n",
       "3            0  10-02-2014       26        11  ...             0   \n",
       "4            0  19-01-2014       94       173  ...             0   \n",
       "...        ...         ...      ...       ...  ...           ...   \n",
       "2235         1  13-06-2013       46       709  ...             0   \n",
       "2236         1  10-06-2014       56       406  ...             0   \n",
       "2237         0  25-01-2014       91       908  ...             0   \n",
       "2238         1  24-01-2014        8       428  ...             0   \n",
       "2239         1  15-10-2012       40        84  ...             0   \n",
       "\n",
       "      AcceptedCmp4  AcceptedCmp5  AcceptedCmp1  AcceptedCmp2  Complain  \\\n",
       "0                0             0             0             0         0   \n",
       "1                0             0             0             0         0   \n",
       "2                0             0             0             0         0   \n",
       "3                0             0             0             0         0   \n",
       "4                0             0             0             0         0   \n",
       "...            ...           ...           ...           ...       ...   \n",
       "2235             0             0             0             0         0   \n",
       "2236             0             0             1             0         0   \n",
       "2237             1             0             0             0         0   \n",
       "2238             0             0             0             0         0   \n",
       "2239             0             0             0             0         0   \n",
       "\n",
       "      Z_CostContact  Z_Revenue  Response  Country  \n",
       "0                 3         11         1       US  \n",
       "1                 3         11         0       US  \n",
       "2                 3         11         0       US  \n",
       "3                 3         11         0       US  \n",
       "4                 3         11         0       US  \n",
       "...             ...        ...       ...      ...  \n",
       "2235              3         11         0       SA  \n",
       "2236              3         11         0       SA  \n",
       "2237              3         11         0       SA  \n",
       "2238              3         11         0       SA  \n",
       "2239              3         11         1       SA  \n",
       "\n",
       "[2240 rows x 30 columns]"
      ]
     },
     "execution_count": 11,
     "metadata": {},
     "output_type": "execute_result"
    }
   ],
   "source": [
    "#Visualizar la base de datos combinada con la cual vamos a trabajar\n",
    "datos2= pd.read_csv(\"E:\\\\Master\\\\TFM\\\\nueva.csv\", sep=\",\")\n",
    "datos2"
   ]
  },
  {
   "cell_type": "code",
   "execution_count": 12,
   "id": "b9cda41a",
   "metadata": {},
   "outputs": [
    {
     "data": {
      "text/plain": [
       "(2240, 30)"
      ]
     },
     "execution_count": 12,
     "metadata": {},
     "output_type": "execute_result"
    }
   ],
   "source": [
    "#Para saber la cantidad de datos y variables que tiene la base de datos\n",
    "datos2.shape"
   ]
  },
  {
   "cell_type": "code",
   "execution_count": 13,
   "id": "f5510f28",
   "metadata": {},
   "outputs": [
    {
     "name": "stdout",
     "output_type": "stream",
     "text": [
      "Index(['ID', 'Year_Birth', 'Education', 'Marital_Status', 'Income', 'Kidhome',\n",
      "       'Teenhome', 'Dt_Customer', 'Recency', 'MntWines', 'MntFruits',\n",
      "       'MntMeatProducts', 'MntFishProducts', 'MntSweetProducts',\n",
      "       'MntGoldProds', 'NumDealsPurchases', 'NumWebPurchases',\n",
      "       'NumCatalogPurchases', 'NumStorePurchases', 'NumWebVisitsMonth',\n",
      "       'AcceptedCmp3', 'AcceptedCmp4', 'AcceptedCmp5', 'AcceptedCmp1',\n",
      "       'AcceptedCmp2', 'Complain', 'Z_CostContact', 'Z_Revenue', 'Response',\n",
      "       'Country'],\n",
      "      dtype='object')\n"
     ]
    }
   ],
   "source": [
    "# Comprobación de nuevo de las columnas para saber que se ha unificado bien\n",
    "nombres_columnas = datos2.columns\n",
    "print(nombres_columnas)"
   ]
  },
  {
   "cell_type": "code",
   "execution_count": 14,
   "id": "81f517fa",
   "metadata": {},
   "outputs": [
    {
     "name": "stdout",
     "output_type": "stream",
     "text": [
      "<class 'pandas.core.frame.DataFrame'>\n",
      "RangeIndex: 2240 entries, 0 to 2239\n",
      "Data columns (total 30 columns):\n",
      " #   Column               Non-Null Count  Dtype  \n",
      "---  ------               --------------  -----  \n",
      " 0   ID                   2240 non-null   int64  \n",
      " 1   Year_Birth           2240 non-null   int64  \n",
      " 2   Education            2240 non-null   object \n",
      " 3   Marital_Status       2240 non-null   object \n",
      " 4   Income               2216 non-null   float64\n",
      " 5   Kidhome              2240 non-null   int64  \n",
      " 6   Teenhome             2240 non-null   int64  \n",
      " 7   Dt_Customer          2240 non-null   object \n",
      " 8   Recency              2240 non-null   int64  \n",
      " 9   MntWines             2240 non-null   int64  \n",
      " 10  MntFruits            2240 non-null   int64  \n",
      " 11  MntMeatProducts      2240 non-null   int64  \n",
      " 12  MntFishProducts      2240 non-null   int64  \n",
      " 13  MntSweetProducts     2240 non-null   int64  \n",
      " 14  MntGoldProds         2240 non-null   int64  \n",
      " 15  NumDealsPurchases    2240 non-null   int64  \n",
      " 16  NumWebPurchases      2240 non-null   int64  \n",
      " 17  NumCatalogPurchases  2240 non-null   int64  \n",
      " 18  NumStorePurchases    2240 non-null   int64  \n",
      " 19  NumWebVisitsMonth    2240 non-null   int64  \n",
      " 20  AcceptedCmp3         2240 non-null   int64  \n",
      " 21  AcceptedCmp4         2240 non-null   int64  \n",
      " 22  AcceptedCmp5         2240 non-null   int64  \n",
      " 23  AcceptedCmp1         2240 non-null   int64  \n",
      " 24  AcceptedCmp2         2240 non-null   int64  \n",
      " 25  Complain             2240 non-null   int64  \n",
      " 26  Z_CostContact        2240 non-null   int64  \n",
      " 27  Z_Revenue            2240 non-null   int64  \n",
      " 28  Response             2240 non-null   int64  \n",
      " 29  Country              2240 non-null   object \n",
      "dtypes: float64(1), int64(25), object(4)\n",
      "memory usage: 525.1+ KB\n"
     ]
    }
   ],
   "source": [
    "datos2.info()\n",
    "#Son todos números enteros menos los ingresos que son numeros decimales"
   ]
  },
  {
   "cell_type": "markdown",
   "id": "139d0c8c",
   "metadata": {},
   "source": [
    "#### LIMPIEZA ESTADO CIVIL"
   ]
  },
  {
   "cell_type": "code",
   "execution_count": 16,
   "id": "5f7d44f9",
   "metadata": {},
   "outputs": [],
   "source": [
    "#Cambio de los nombres de las variables del inglés al español, ya que toda la investigación va a ser en español\n",
    "varespañol={'ID': 'Identificador', 'Year_Birth': 'Cumpleaños', 'Education': 'Educacion', 'Marital_Status':'Estadocivil', 'Income': 'Ingresos', 'Kidhome':'Niños',\n",
    "       'Teenhome': 'Adolescentes', 'Dt_Customer': 'Inscripcion', 'Recency':'Ultimacompra', 'MntWines': 'Totalvinos', 'MntFruits': 'Totalfrutas',\n",
    "       'MntMeatProducts': 'Totalcarnes', 'MntFishProducts':'Totalpescados', 'MntSweetProducts':'Totaldulces',\n",
    "       'MntGoldProds':'Totallujos', 'NumDealsPurchases':'Comprasdescuentos', 'NumWebPurchases':'Comprasweb',\n",
    "       'NumCatalogPurchases':'Comprascatalogo', 'NumStorePurchases':'Comprastiendas', 'NumWebVisitsMonth':'Visitaswebmes',\n",
    "       'AcceptedCmp3':'Campaña3', 'AcceptedCmp4':'Campaña4', 'AcceptedCmp5':'Campaña5', 'AcceptedCmp1':'Campaña1',\n",
    "       'AcceptedCmp2':'Campaña2', 'Complain':'Quejas', 'Z_CostContact':'Zcostecontacto', 'Z_Revenue':'Zingresos', 'Response':'Respuesta',\n",
    "       'Country':'Pais'}\n",
    "datos2= datos2.rename(columns=varespañol)"
   ]
  },
  {
   "cell_type": "code",
   "execution_count": 18,
   "id": "82668110",
   "metadata": {},
   "outputs": [
    {
     "data": {
      "image/png": "[encoded data removed]",
      "text/plain": [
       "<Figure size 1000x500 with 2 Axes>"
      ]
     },
     "metadata": {},
     "output_type": "display_data"
    }
   ],
   "source": [
    "# Crear los gráficos de caja\n",
    "fig, axes = plt.subplots(nrows=1, ncols=2, figsize=(10, 5))\n",
    "\n",
    "datos2.boxplot(column='Ingresos', ax=axes[0])\n",
    "axes[0].set_title('Gráfico de Caja - Ingresos')\n",
    "\n",
    "datos2.boxplot(column='Cumpleaños', ax=axes[1])\n",
    "axes[1].set_title('Gráfico de Caja - Cumpleaños')\n",
    "\n",
    "# Mostrar los gráficos\n",
    "plt.tight_layout()\n",
    "plt.show()"
   ]
  },
  {
   "cell_type": "code",
   "execution_count": 19,
   "id": "bcdbc33e",
   "metadata": {},
   "outputs": [
    {
     "name": "stdout",
     "output_type": "stream",
     "text": [
      "<class 'pandas.core.frame.DataFrame'>\n",
      "RangeIndex: 2240 entries, 0 to 2239\n",
      "Data columns (total 30 columns):\n",
      " #   Column             Non-Null Count  Dtype  \n",
      "---  ------             --------------  -----  \n",
      " 0   Identificador      2240 non-null   int64  \n",
      " 1   Cumpleaños         2240 non-null   int64  \n",
      " 2   Educacion          2240 non-null   object \n",
      " 3   Estadocivil        2240 non-null   object \n",
      " 4   Ingresos           2216 non-null   float64\n",
      " 5   Niños              2240 non-null   int64  \n",
      " 6   Adolescentes       2240 non-null   int64  \n",
      " 7   Inscripcion        2240 non-null   object \n",
      " 8   Ultimacompra       2240 non-null   int64  \n",
      " 9   Totalvinos         2240 non-null   int64  \n",
      " 10  Totalfrutas        2240 non-null   int64  \n",
      " 11  Totalcarnes        2240 non-null   int64  \n",
      " 12  Totalpescados      2240 non-null   int64  \n",
      " 13  Totaldulces        2240 non-null   int64  \n",
      " 14  Totallujos         2240 non-null   int64  \n",
      " 15  Comprasdescuentos  2240 non-null   int64  \n",
      " 16  Comprasweb         2240 non-null   int64  \n",
      " 17  Comprascatalogo    2240 non-null   int64  \n",
      " 18  Comprastiendas     2240 non-null   int64  \n",
      " 19  Visitaswebmes      2240 non-null   int64  \n",
      " 20  Campaña3           2240 non-null   int64  \n",
      " 21  Campaña4           2240 non-null   int64  \n",
      " 22  Campaña5           2240 non-null   int64  \n",
      " 23  Campaña1           2240 non-null   int64  \n",
      " 24  Campaña2           2240 non-null   int64  \n",
      " 25  Quejas             2240 non-null   int64  \n",
      " 26  Zcostecontacto     2240 non-null   int64  \n",
      " 27  Zingresos          2240 non-null   int64  \n",
      " 28  Respuesta          2240 non-null   int64  \n",
      " 29  Pais               2240 non-null   object \n",
      "dtypes: float64(1), int64(25), object(4)\n",
      "memory usage: 525.1+ KB\n"
     ]
    }
   ],
   "source": [
    "#Para ver si se han cambiado bien las variables\n",
    "datos2.info()"
   ]
  },
  {
   "cell_type": "code",
   "execution_count": 20,
   "id": "5fcaf0f0",
   "metadata": {},
   "outputs": [
    {
     "data": {
      "text/plain": [
       "Index(['Absurd', 'Alone', 'Divorced', 'Married', 'Single', 'Together', 'Widow',\n",
       "       'YOLO'],\n",
       "      dtype='object', name='Estadocivil')"
      ]
     },
     "execution_count": 20,
     "metadata": {},
     "output_type": "execute_result"
    }
   ],
   "source": [
    "#Comprobación de las variables categóricas (Estado civil) para saber si las respuestas son correctas o hay algún error\n",
    "#tengo que cambiar en la columna de estado civil el alone por single.\n",
    "datos2.groupby(\"Estadocivil\").describe().index\n"
   ]
  },
  {
   "cell_type": "code",
   "execution_count": 21,
   "id": "5223878c",
   "metadata": {},
   "outputs": [],
   "source": [
    "#Cambio de respuestas que significan lo mismo para unificarlas en una\n",
    "datos3= datos2.replace(['Absurd','Alone','YOLO'], 'Single')"
   ]
  },
  {
   "cell_type": "code",
   "execution_count": null,
   "id": "7f6717c4",
   "metadata": {},
   "outputs": [],
   "source": [
    "#Para cambiar el nombre de las respuestas categóricas de inglés al español\n",
    "\n",
    "datos3['Estadocivil'] = datos3['Estadocivil'].replace('Divorced', 'Divorciado')\n",
    "datos3['Estadocivil'] = datos3['Estadocivil'].replace('Single', 'Soltero')\n",
    "datos3['Estadocivil'] = datos3['Estadocivil'].replace('Married', 'Casado')\n",
    "datos3['Estadocivil'] = datos3['Estadocivil'].replace('Widow', 'Viudo')\n",
    "datos3['Estadocivil'] = datos3['Estadocivil'].replace('Together', 'Parejadehecho')"
   ]
  },
  {
   "cell_type": "code",
   "execution_count": null,
   "id": "41ea6b20",
   "metadata": {},
   "outputs": [],
   "source": [
    "#Comprobación de que no queda ninguna instancia mal o en inglés\n",
    "datos3.groupby(\"Estadocivil\").describe().index"
   ]
  },
  {
   "cell_type": "code",
   "execution_count": null,
   "id": "c53f8329",
   "metadata": {},
   "outputs": [],
   "source": [
    "# Comprobraciñon general de los datos\n",
    "datos3"
   ]
  },
  {
   "cell_type": "markdown",
   "id": "3bf122cc",
   "metadata": {},
   "source": [
    "#### LIMPIEZA EDUCACIÓN"
   ]
  },
  {
   "cell_type": "code",
   "execution_count": null,
   "id": "71087817",
   "metadata": {},
   "outputs": [],
   "source": [
    "# Comprobación de que los datos categóricos de la variable eduación son correctos\n",
    "datos3.groupby(\"Educacion\").describe().index"
   ]
  },
  {
   "cell_type": "code",
   "execution_count": null,
   "id": "b65c7d9c",
   "metadata": {},
   "outputs": [],
   "source": [
    "# Se reemplaza el 2 ciclo por master ya que significan lo mismo\n",
    "datos4= datos3.replace(['2n Cycle'], 'Master')"
   ]
  },
  {
   "cell_type": "code",
   "execution_count": null,
   "id": "c4058a36",
   "metadata": {},
   "outputs": [],
   "source": [
    "# Descripción de la variable educación para saber que se ha cambiado correctamente la instancia\n",
    "datos4.groupby(\"Educacion\").describe().index"
   ]
  },
  {
   "cell_type": "code",
   "execution_count": null,
   "id": "515f1140",
   "metadata": {},
   "outputs": [],
   "source": [
    "#Para cambiar el nombre de las respuestas categóricas de inglés al español\n",
    "\n",
    "datos4['Educacion'] = datos4['Educacion'].replace('Basic', 'Basico')\n",
    "datos4['Educacion'] = datos4['Educacion'].replace('Graduation', 'Graduado')"
   ]
  },
  {
   "cell_type": "code",
   "execution_count": null,
   "id": "c56bdba8",
   "metadata": {},
   "outputs": [],
   "source": [
    "# Comprobación general de los datos para saber que están bien\n",
    "datos4"
   ]
  },
  {
   "cell_type": "markdown",
   "id": "e64b9262",
   "metadata": {},
   "source": [
    "#### LIMPIEZA DE NULOS"
   ]
  },
  {
   "cell_type": "code",
   "execution_count": null,
   "id": "19739582",
   "metadata": {},
   "outputs": [],
   "source": [
    "#para saber en qué columna hay valores nulos\n",
    "datos4.isnull().any()"
   ]
  },
  {
   "cell_type": "code",
   "execution_count": null,
   "id": "b63df8e7",
   "metadata": {},
   "outputs": [],
   "source": [
    "#Para saber el número total de datos nulos que hay por columna\n",
    "datos4.isnull().sum()"
   ]
  },
  {
   "cell_type": "code",
   "execution_count": null,
   "id": "34a45739",
   "metadata": {},
   "outputs": [],
   "source": [
    "#Para saber la media de los valores de cada columna\n",
    "datos4.mean(axis=0)"
   ]
  },
  {
   "cell_type": "code",
   "execution_count": null,
   "id": "6a9f914d",
   "metadata": {},
   "outputs": [],
   "source": [
    "#Para rellenar los datos nulos con la media de la columna ingresos.\n",
    "media= datos4['Ingresos'].mean()\n",
    "datos4['Ingresos'] = datos4['Ingresos'].fillna(media)"
   ]
  },
  {
   "cell_type": "code",
   "execution_count": null,
   "id": "427c292b",
   "metadata": {},
   "outputs": [],
   "source": [
    "#Volvemos a comprobar que no hay ningún valor nulo.\n",
    "datos4.isnull().sum()"
   ]
  },
  {
   "cell_type": "markdown",
   "id": "c3b13f7d",
   "metadata": {},
   "source": [
    "### COMPROBACIÓN DE ERRORES"
   ]
  },
  {
   "cell_type": "code",
   "execution_count": null,
   "id": "0d8fb7cf",
   "metadata": {},
   "outputs": [],
   "source": [
    "#Para sacar los estadísticos\n",
    "datos4.describe()"
   ]
  },
  {
   "cell_type": "markdown",
   "id": "ae10b5ea",
   "metadata": {},
   "source": [
    "#### LIMPIEZA DE LA VARIABLE CUMPLEAÑOS"
   ]
  },
  {
   "cell_type": "code",
   "execution_count": null,
   "id": "65193ed9",
   "metadata": {},
   "outputs": [],
   "source": [
    "#Comprobar los valores unicos ya que se ha comprobado con el describe que hay un valor extraño\n",
    "datos4['Cumpleaños'].unique()"
   ]
  },
  {
   "cell_type": "code",
   "execution_count": null,
   "id": "9b4875e8",
   "metadata": {},
   "outputs": [],
   "source": [
    "#Como hay 3 valores en años que están mal ya que no sigue la media del resto, se intuye que o son anormales o se han introducido\n",
    "#incorrectamente a la hora de rellenar los datos. Por ello, se van a reemplazar por la media de los datos en vez de eliminarlos.\n",
    "datos4['Cumpleaños'] = datos4['Cumpleaños'].replace(1893, 1969)\n",
    "datos4['Cumpleaños'] = datos4['Cumpleaños'].replace(1900, 1969)\n",
    "datos4['Cumpleaños'] = datos4['Cumpleaños'].replace(1899, 1969)"
   ]
  },
  {
   "cell_type": "code",
   "execution_count": null,
   "id": "1e191fef",
   "metadata": {},
   "outputs": [],
   "source": [
    "#Comprobar que los datos se han limpiado correctamente\n",
    "datos4['Cumpleaños'].unique()"
   ]
  },
  {
   "cell_type": "markdown",
   "id": "10fe7746",
   "metadata": {},
   "source": [
    "#### LIMPIEZA DE LA VARIABLE INGRESOS"
   ]
  },
  {
   "cell_type": "code",
   "execution_count": null,
   "id": "c2d7d24f",
   "metadata": {},
   "outputs": [],
   "source": [
    "#Para ver cual es el mayor dato que se habia comprobado previamente con el describe\n",
    "datos4['Ingresos'].max()"
   ]
  },
  {
   "cell_type": "code",
   "execution_count": null,
   "id": "37d3d60d",
   "metadata": {},
   "outputs": [],
   "source": [
    "#Como hay un valor en los ingresos que no sigue la media de los demas: un ingreso de 666.666€, se intuye que es anormal o que\n",
    "#se ha introducido incorrectamente a la hora de rellenar los datos. Por ello, se va a reemplazar por la media de los datos\n",
    "#en vez de eliminarlo\n",
    "datos4['Ingresos']= datos4['Ingresos'].replace(666666.0, 52247.251354)"
   ]
  },
  {
   "cell_type": "code",
   "execution_count": null,
   "id": "1419f179",
   "metadata": {},
   "outputs": [],
   "source": [
    "#comprobar que se ha limpiado bien observando el numero máximo\n",
    "datos4['Ingresos'].max()"
   ]
  },
  {
   "cell_type": "code",
   "execution_count": null,
   "id": "5f37b5eb",
   "metadata": {},
   "outputs": [],
   "source": [
    "#Comprobar que no hay más datos erróneos\n",
    "datos4['Ingresos'].unique()"
   ]
  },
  {
   "cell_type": "markdown",
   "id": "9a01ff62",
   "metadata": {},
   "source": [
    "## GUARDADO DE ARCHIVOS"
   ]
  },
  {
   "cell_type": "code",
   "execution_count": null,
   "id": "a9b9e5e9",
   "metadata": {},
   "outputs": [],
   "source": [
    "#Guardado del csv de la base de datos tratada y con la cual se va a trabajar\n",
    "datos4.to_csv('ARCHIVOTRATADO.csv', sep=';')"
   ]
  },
  {
   "cell_type": "code",
   "execution_count": null,
   "id": "44289061",
   "metadata": {},
   "outputs": [],
   "source": [
    "#Guardado de la base de datos sin tratar por si más adelante se necesita\n",
    "datos.to_csv('ARCHIVO2.csv', sep=';')"
   ]
  },
  {
   "cell_type": "markdown",
   "id": "0dedb99a",
   "metadata": {},
   "source": [
    "## ANÁLISIS ESTADÍSTICO VARIABLES CUANTITATIVAS"
   ]
  },
  {
   "cell_type": "code",
   "execution_count": null,
   "id": "965cef99",
   "metadata": {},
   "outputs": [],
   "source": [
    "#Descripción estadistica traspuesta para pasar al documento\n",
    "datos4.describe().T"
   ]
  },
  {
   "cell_type": "markdown",
   "id": "5776d935",
   "metadata": {},
   "source": [
    "#### COMPROBACIÓN DE INGRESOS"
   ]
  },
  {
   "cell_type": "code",
   "execution_count": null,
   "id": "bd416b6e",
   "metadata": {},
   "outputs": [],
   "source": [
    "#Como se ha limpiado antes esta variable, se ordena de mayor a menor para acabar de comprobar\n",
    "datos4.sort_values(by=['Ingresos'], ascending=False)"
   ]
  },
  {
   "cell_type": "code",
   "execution_count": null,
   "id": "3c53f30d",
   "metadata": {},
   "outputs": [],
   "source": [
    "#Histograma de la variable ingresos\n",
    "datos4['Ingresos'].plot(kind='hist', cmap='Set3')\n",
    "plt.xlabel('Cantidad de ingresos')\n",
    "plt.ylabel('Frecuencia')\n",
    "plt.show()"
   ]
  },
  {
   "cell_type": "markdown",
   "id": "f186a7f3",
   "metadata": {},
   "source": [
    "#### CONVERSION DE DT CUSTOMER(INSCRIPCION) PARA SACAR EL AÑO DE LOS CLIENTES"
   ]
  },
  {
   "cell_type": "code",
   "execution_count": null,
   "id": "1335c51c",
   "metadata": {},
   "outputs": [],
   "source": [
    "import warnings\n",
    "\n",
    "# Filtrar las advertencias para que el código no quede con 30 páginas de mensaje\n",
    "warnings.filterwarnings(\"ignore\", category=UserWarning, message=\"Parsing .* in DD/MM/YYYY format.*\")\n",
    "\n",
    "#Convertir la variable inscripción que es tipo objeto a fecha para poder manipularla luego\n",
    "datos4['Inscripcion'] = pd.to_datetime(datos4['Inscripcion'])\n",
    "\n",
    "# Para que vuelvan a saltar\n",
    "warnings.resetwarnings()"
   ]
  },
  {
   "cell_type": "code",
   "execution_count": null,
   "id": "743f2237",
   "metadata": {},
   "outputs": [],
   "source": [
    "#Comprobración de que se ha transformado bien la variable a datetime\n",
    "datos4.info()"
   ]
  },
  {
   "cell_type": "code",
   "execution_count": null,
   "id": "533e08e2",
   "metadata": {},
   "outputs": [],
   "source": [
    "# Comprobación de todos los datos en formato tabla\n",
    "datos4"
   ]
  },
  {
   "cell_type": "code",
   "execution_count": null,
   "id": "89197832",
   "metadata": {},
   "outputs": [],
   "source": [
    "#Como no interesa tratar los datos con el año de nacimiento se crea una columna que sean los años\n",
    "datos4[\"añocompra\"] = datos4[\"Inscripcion\"].dt.year\n",
    "datos4[\"añocompra\"]\n",
    "datos4[\"años\"]= datos4[\"añocompra\"] - datos4['Cumpleaños']\n",
    "datos4[\"años\"]"
   ]
  },
  {
   "cell_type": "code",
   "execution_count": null,
   "id": "fc95186d",
   "metadata": {},
   "outputs": [],
   "source": [
    "#Comprobación de que se ha creado la columna correspondiente\n",
    "datos4.info()"
   ]
  },
  {
   "cell_type": "code",
   "execution_count": null,
   "id": "87b8bd65",
   "metadata": {},
   "outputs": [],
   "source": [
    "#Histograma para ver la edad de los consumidores\n",
    "datos4['años'].plot(kind='hist', cmap='Set3')\n",
    "plt.xlabel('Edad de los consumidores')\n",
    "plt.ylabel('Frecuencia')\n",
    "plt.show()"
   ]
  },
  {
   "cell_type": "code",
   "execution_count": null,
   "id": "d61d0310",
   "metadata": {},
   "outputs": [],
   "source": [
    "#Datos estadísticos con la edad de los consumidores y no el año de nacimiento\n",
    "datos4['años'].describe()"
   ]
  },
  {
   "cell_type": "markdown",
   "id": "46b7ea08",
   "metadata": {},
   "source": [
    "#### ANALIZAR EL TOTAL DE GASTO DE LOS CLIENTES"
   ]
  },
  {
   "cell_type": "code",
   "execution_count": null,
   "id": "f50166c6",
   "metadata": {},
   "outputs": [],
   "source": [
    "#Creación de una variable con el total del gasto de los distintos productos\n",
    "datos4['Totalgasto']= datos4.loc[:, ['Totalvinos', 'Totalfrutas',\n",
    "      'Totalcarnes', 'Totalpescados', 'Totaldulces',\n",
    "       'Totallujos']].sum(axis=1)\n",
    "datos4['Totalgasto']"
   ]
  },
  {
   "cell_type": "code",
   "execution_count": null,
   "id": "cf8cbdfa",
   "metadata": {},
   "outputs": [],
   "source": [
    "#Histograma del total de gasto\n",
    "datos4['Totalgasto'].plot(kind='hist', cmap='Set3')\n",
    "plt.xlabel('Total de gasto')\n",
    "plt.ylabel('Frecuencia')\n",
    "plt.show()"
   ]
  },
  {
   "cell_type": "markdown",
   "id": "ce32c0a0",
   "metadata": {},
   "source": [
    "#### ANALIZAR EL NUMERO TOTAL DE HIJOS"
   ]
  },
  {
   "cell_type": "code",
   "execution_count": null,
   "id": "da179254",
   "metadata": {},
   "outputs": [],
   "source": [
    "# Gráfico de barras de los niños que hay en cada familia de los consumidores\n",
    "datos4['Niños'].value_counts(sort=False).sort_index().plot.bar(rot=0, cmap='Set3')\n",
    "plt.xlabel('Número de hijos pequeños')\n",
    "plt.ylabel('Frecuencia ')"
   ]
  },
  {
   "cell_type": "code",
   "execution_count": null,
   "id": "bd8a5a1f",
   "metadata": {},
   "outputs": [],
   "source": [
    "# Gráfica de barra de los adolescentes que hay en cada familia de los consumidores\n",
    "datos4['Adolescentes'].value_counts(sort=False).sort_index().plot.bar(rot=0, cmap='Set3')\n",
    "plt.xlabel('Número de hijos adolescentes')\n",
    "plt.ylabel('Frecuencia')"
   ]
  },
  {
   "cell_type": "code",
   "execution_count": null,
   "id": "3cfdf4e1",
   "metadata": {},
   "outputs": [],
   "source": [
    "# Creación de una nueva variable del total de hijos que tienen los consumidores\n",
    "datos4['Totalhijos']= datos4.loc[:, ['Niños', 'Adolescentes']].sum(axis=1)\n",
    "datos4['Totalhijos']"
   ]
  },
  {
   "cell_type": "code",
   "execution_count": null,
   "id": "50fa93b8",
   "metadata": {},
   "outputs": [],
   "source": [
    "# Representación gráfica de los hijos totales que hay en la familia de los consumidores\n",
    "datos4['Totalhijos'].value_counts(sort=False).sort_index().plot.bar(rot=0, cmap='Set3')\n",
    "plt.xlabel('Número de hijos por consumidor')\n",
    "plt.ylabel('Total de número de hijos')"
   ]
  },
  {
   "cell_type": "markdown",
   "id": "0ed8c281",
   "metadata": {},
   "source": [
    "##### ANÁLISIS INDIVIDUAL DE COMPRA"
   ]
  },
  {
   "cell_type": "code",
   "execution_count": null,
   "id": "5c0e0b93",
   "metadata": {},
   "outputs": [],
   "source": [
    "# Representación del gasto medio de cada tipo de compra\n",
    "columnas_loc = datos4.loc[:, ['Totalvinos', 'Totalfrutas',\n",
    "       'Totalcarnes', 'Totalpescados', 'Totaldulces',\n",
    "       'Totallujos']]\n",
    "medias = columnas_loc.mean()\n",
    "medias.plot.bar( cmap='Set3')\n",
    "plt.xlabel('Tipo de compra')\n",
    "plt.ylabel('Total de gasto')\n",
    "plt.show()"
   ]
  },
  {
   "cell_type": "code",
   "execution_count": null,
   "id": "6cc795f7",
   "metadata": {},
   "outputs": [],
   "source": [
    "# Igual que el anterior pero en porcentaje y en gráfico circular\n",
    "columnas_loc = datos4.loc[:, ['Totalvinos', 'Totalfrutas',\n",
    "       'Totalcarnes', 'Totalpescados', 'Totaldulces',\n",
    "       'Totallujos']]\n",
    "medias = columnas_loc.mean()\n",
    "desfase=(0,0,0.1,0,0,0)\n",
    "medias.plot.pie( cmap='Set3',  autopct=\"%0.1f %%\", explode=desfase)\n",
    "plt.xlabel('Gastos')\n",
    "plt.ylabel('    ')\n",
    "plt.show()"
   ]
  },
  {
   "cell_type": "code",
   "execution_count": null,
   "id": "6ef972a0",
   "metadata": {},
   "outputs": [],
   "source": [
    "# ordenado descendente\n",
    "educacion=datos4.groupby(['años'])['Totallujos'].mean()\n",
    "educacion.sort_values(ascending=False)"
   ]
  },
  {
   "cell_type": "code",
   "execution_count": null,
   "id": "50f862f7",
   "metadata": {},
   "outputs": [],
   "source": [
    "vinos=datos4.groupby(['Educacion'])['Totallujos'].apply(lambda x: x.mode())\n",
    "vinos.sort_values(ascending=False)"
   ]
  },
  {
   "cell_type": "code",
   "execution_count": null,
   "id": "2af4986e",
   "metadata": {},
   "outputs": [],
   "source": [
    "# Representación del gasto en vino de los consumidores \n",
    "datos4['Totalvinos'].plot(kind='hist', cmap='Set3')\n",
    "plt.xlabel('Gasto en vino')\n",
    "plt.ylabel('Frecuencia')\n",
    "plt.show()"
   ]
  },
  {
   "cell_type": "code",
   "execution_count": null,
   "id": "f422ab8a",
   "metadata": {},
   "outputs": [],
   "source": [
    "# Representación del gasto en fruta de los consumidores \n",
    "datos4['Totalfrutas'].plot(kind='hist', cmap='Set3')\n",
    "plt.xlabel('Gasto en frutas')\n",
    "plt.ylabel('Frecuencia')\n",
    "plt.show()"
   ]
  },
  {
   "cell_type": "code",
   "execution_count": null,
   "id": "f757b10a",
   "metadata": {},
   "outputs": [],
   "source": [
    "# Representación del gasto en carne de los consumidores \n",
    "datos4['Totalcarnes'].plot(kind='hist', cmap='Set3')\n",
    "plt.xlabel('Gasto en carnes')\n",
    "plt.ylabel('Frecuencia')\n",
    "plt.show()"
   ]
  },
  {
   "cell_type": "code",
   "execution_count": null,
   "id": "e3f78efb",
   "metadata": {},
   "outputs": [],
   "source": [
    "# Representación del gasto en dulces de los consumidores \n",
    "datos4['Totaldulces'].plot(kind='hist', cmap='Set3')\n",
    "plt.xlabel('Gasto en dulces')\n",
    "plt.ylabel('Frecuencia')\n",
    "plt.show()"
   ]
  },
  {
   "cell_type": "code",
   "execution_count": null,
   "id": "daf2e488",
   "metadata": {},
   "outputs": [],
   "source": [
    "# Representación del gasto en lujos de los consumidores \n",
    "datos4['Totallujos'].plot(kind='hist', cmap='Set3')\n",
    "plt.xlabel('Gasto en lujos')\n",
    "plt.ylabel('Frecuencia')\n",
    "plt.show()"
   ]
  },
  {
   "cell_type": "markdown",
   "id": "e70df8f8",
   "metadata": {},
   "source": [
    "#### Análisis de la aceptación de las campañas"
   ]
  },
  {
   "cell_type": "code",
   "execution_count": null,
   "id": "e6037f2a",
   "metadata": {},
   "outputs": [],
   "source": [
    "# Representación de aceptación de la campaña 1 \n",
    "datos4['Campaña1'].value_counts(sort=False).sort_index().plot.bar(rot=0, cmap='Set3')\n",
    "plt.xlabel('Aceptación de la campaña')\n",
    "plt.ylabel('Frecuencia')"
   ]
  },
  {
   "cell_type": "code",
   "execution_count": null,
   "id": "93d86627",
   "metadata": {},
   "outputs": [],
   "source": [
    "# Igual que el anterior pero en porcentaje y en gráfico circular\n",
    "desfase = (0.1, 0)\n",
    "datos4['Campaña1'].value_counts(sort=False).sort_index().plot.pie(rot=0, cmap='Set3', autopct=\"%0.1f %%\", explode=desfase)"
   ]
  },
  {
   "cell_type": "code",
   "execution_count": null,
   "id": "bd911d83",
   "metadata": {},
   "outputs": [],
   "source": [
    "# Representación de aceptación de la campaña 2 \n",
    "datos4['Campaña2'].value_counts(sort=False).sort_index().plot.bar(rot=0, cmap='Set3')\n",
    "plt.xlabel('Aceptación de la campaña')\n",
    "plt.ylabel('Frecuencia')"
   ]
  },
  {
   "cell_type": "code",
   "execution_count": null,
   "id": "8176f527",
   "metadata": {},
   "outputs": [],
   "source": [
    "# Igual que el anterior pero en porcentaje y en gráfico circular\n",
    "desfase = (0.1, 0)\n",
    "datos4['Campaña2'].value_counts(sort=False).sort_index().plot.pie(rot=0, cmap='Set3', autopct=\"%0.1f %%\", explode=desfase)"
   ]
  },
  {
   "cell_type": "code",
   "execution_count": null,
   "id": "f4c8c175",
   "metadata": {},
   "outputs": [],
   "source": [
    "# Representación de aceptación de la campaña 3 \n",
    "datos4['Campaña3'].value_counts(sort=False).sort_index().plot.bar(rot=0, cmap='Set3')\n",
    "plt.xlabel('Aceptación de la campaña')\n",
    "plt.ylabel('Frecuencia')"
   ]
  },
  {
   "cell_type": "code",
   "execution_count": null,
   "id": "2c4f9fd3",
   "metadata": {},
   "outputs": [],
   "source": [
    "# Igual que el anterior pero en porcentaje y en gráfico circular\n",
    "desfase = (0.1, 0)\n",
    "datos4['Campaña3'].value_counts(sort=False).sort_index().plot.pie(rot=0, cmap='Set3', autopct=\"%0.1f %%\", explode=desfase)"
   ]
  },
  {
   "cell_type": "code",
   "execution_count": null,
   "id": "962e4cb4",
   "metadata": {},
   "outputs": [],
   "source": [
    "# Representación de aceptación de la campaña 4\n",
    "datos4['Campaña4'].value_counts(sort=False).sort_index().plot.bar(rot=0, cmap='Set3')\n",
    "plt.xlabel('Aceptación de la campaña')\n",
    "plt.ylabel('Frecuencia')"
   ]
  },
  {
   "cell_type": "code",
   "execution_count": null,
   "id": "f3b516e5",
   "metadata": {},
   "outputs": [],
   "source": [
    "# Igual que el anterior pero en porcentaje y en gráfico circular\n",
    "desfase = (0.1, 0)\n",
    "datos4['Campaña4'].value_counts(sort=False).sort_index().plot.pie(rot=0, cmap='Set3', autopct=\"%0.1f %%\", explode=desfase)"
   ]
  },
  {
   "cell_type": "code",
   "execution_count": null,
   "id": "273b965d",
   "metadata": {},
   "outputs": [],
   "source": [
    "# Representación de aceptación de la campaña 5 \n",
    "datos4['Campaña5'].value_counts(sort=False).sort_index().plot.bar(rot=0, cmap='Set3')\n",
    "plt.xlabel('Aceptación de la campaña')\n",
    "plt.ylabel('Frecuencia')"
   ]
  },
  {
   "cell_type": "code",
   "execution_count": null,
   "id": "1efb256e",
   "metadata": {},
   "outputs": [],
   "source": [
    "# Igual que el anterior pero en porcentaje y en gráfico circular\n",
    "desfase = (0.1, 0)\n",
    "datos4['Campaña5'].value_counts(sort=False).sort_index().plot.pie(rot=0, cmap='Set3', autopct=\"%0.1f %%\", explode=desfase)"
   ]
  },
  {
   "cell_type": "code",
   "execution_count": null,
   "id": "ce840f77",
   "metadata": {},
   "outputs": [],
   "source": [
    "import pandas as pd\n",
    "import matplotlib.pyplot as plt\n",
    "\n",
    "# Escogemos las columnas de las campañas\n",
    "columnas = ['Campaña1', 'Campaña2', 'Campaña3', 'Campaña4', 'Campaña5']\n",
    "\n",
    "# Crear los subplots\n",
    "fig, axs = plt.subplots(1, 5, figsize=(15, 3))\n",
    "\n",
    "# Generar las gráficas en bucle\n",
    "for i, columna in enumerate(columnas):\n",
    "    datos4[columna].value_counts().plot.pie(\n",
    "        rot=0, cmap='Set3', autopct=\"%0.1f %%\", ax=axs[i])\n",
    "    axs[i].set_title(columna)\n",
    "\n",
    "# Ajustar los espacios \n",
    "plt.tight_layout()\n",
    "plt.show()\n"
   ]
  },
  {
   "cell_type": "markdown",
   "id": "a7e6b2eb",
   "metadata": {},
   "source": [
    "#### Análisis tipos de compras"
   ]
  },
  {
   "cell_type": "code",
   "execution_count": null,
   "id": "a024fed5",
   "metadata": {},
   "outputs": [],
   "source": [
    "# Comprobación de los valores únicos que hay de las cantidades de compras con descuentos\n",
    "datos4['Comprasdescuentos'].unique()"
   ]
  },
  {
   "cell_type": "code",
   "execution_count": null,
   "id": "2fed298a",
   "metadata": {},
   "outputs": [],
   "source": [
    "# Representación gráfica de las cantidades de compras con descuentos que se realizan  y su frecuencia\n",
    "datos4['Comprasdescuentos'].value_counts(sort=False).sort_index().plot.bar(rot=0, cmap='Set3')\n",
    "plt.xlabel('Cantidad de compras por descuentos')\n",
    "plt.ylabel('Frecuencia')"
   ]
  },
  {
   "cell_type": "code",
   "execution_count": null,
   "id": "55f95bd2",
   "metadata": {},
   "outputs": [],
   "source": [
    "# Comprobación de los valores únicos que hay de las cantidades de compras en web\n",
    "datos4['Comprasweb'].unique()"
   ]
  },
  {
   "cell_type": "code",
   "execution_count": null,
   "id": "cd044b96",
   "metadata": {},
   "outputs": [],
   "source": [
    "# Representación gráfica de las cantidades de compras por web que se realizan y su frecuencia\n",
    "datos4['Comprasweb'].value_counts(sort=False).sort_index().plot.bar(rot=0, cmap='Set3')\n",
    "plt.xlabel('Cantidad de compras por web')\n",
    "plt.ylabel('Frecuencia')"
   ]
  },
  {
   "cell_type": "code",
   "execution_count": null,
   "id": "4a6e5cbe",
   "metadata": {},
   "outputs": [],
   "source": [
    "# Comprobación de los valores únicos que hay de las cantidades de compras en catálogo\n",
    "datos4['Comprascatalogo'].unique()"
   ]
  },
  {
   "cell_type": "code",
   "execution_count": null,
   "id": "dd9fdaa7",
   "metadata": {},
   "outputs": [],
   "source": [
    "# Representación gráfica de las cantidades de compras por catálogo que se realizan y su frecuencia\n",
    "datos4['Comprascatalogo'].value_counts(sort=False).sort_index().plot.bar(rot=0, cmap='Set3')\n",
    "plt.xlabel('Cantidad de compras por catalogo')\n",
    "plt.ylabel('Frecuencia')"
   ]
  },
  {
   "cell_type": "code",
   "execution_count": null,
   "id": "b992d8f7",
   "metadata": {},
   "outputs": [],
   "source": [
    "# Comprobación de los valores únicos que hay de las cantidades de compras en tienda\n",
    "datos4['Comprastiendas'].unique()"
   ]
  },
  {
   "cell_type": "code",
   "execution_count": null,
   "id": "6591c30e",
   "metadata": {},
   "outputs": [],
   "source": [
    "# Representación gráfica de las cantidades de compras en tienda que se realizan y su frecuencia\n",
    "datos4['Comprastiendas'].value_counts(sort=False).sort_index().plot.bar(rot=0, cmap='Set3')\n",
    "plt.xlabel('Cantidad de compras en tiendas')\n",
    "plt.ylabel('Frecuencia')"
   ]
  },
  {
   "cell_type": "code",
   "execution_count": null,
   "id": "f23310e5",
   "metadata": {},
   "outputs": [],
   "source": [
    "# Comprobación de los valores únicos que hay devisitas a la web\n",
    "datos4['Visitaswebmes'].unique()"
   ]
  },
  {
   "cell_type": "code",
   "execution_count": null,
   "id": "80d92fd2",
   "metadata": {},
   "outputs": [],
   "source": [
    "# Representación gráfica de las cantidades de visitas a la web y su frecuencia\n",
    "datos4['Visitaswebmes'].value_counts(sort=False).sort_index().plot.bar(rot=0, cmap='Set3')\n",
    "plt.xlabel('Cantidad de visitas web')\n",
    "plt.ylabel('Frecuencia')"
   ]
  },
  {
   "cell_type": "markdown",
   "id": "76dc607e",
   "metadata": {},
   "source": [
    "## ANÁLISIS ESTADÍSTICO DE LAS VARIABLES CATEGÓRICAS"
   ]
  },
  {
   "cell_type": "code",
   "execution_count": null,
   "id": "58151f7d",
   "metadata": {},
   "outputs": [],
   "source": [
    "# Descripción estadística de las variables categóricas\n",
    "datos4[['Educacion','Estadocivil','Pais']].describe()"
   ]
  },
  {
   "cell_type": "markdown",
   "id": "bf554e46",
   "metadata": {},
   "source": [
    "#### Variable educación con distintas variables"
   ]
  },
  {
   "cell_type": "code",
   "execution_count": null,
   "id": "f862d469",
   "metadata": {},
   "outputs": [],
   "source": [
    "# Agrupar por variables cualitativas y calcular la media de ingresos\n",
    "datos4.groupby(['Educacion'])['Ingresos'].mean()\n"
   ]
  },
  {
   "cell_type": "code",
   "execution_count": null,
   "id": "39a58f32",
   "metadata": {},
   "outputs": [],
   "source": [
    "# ordenado descendente\n",
    "educacion=datos4.groupby(['Educacion'])['Respuesta'].mean()\n",
    "educacion.sort_values(ascending=False)"
   ]
  },
  {
   "cell_type": "code",
   "execution_count": null,
   "id": "80032cac",
   "metadata": {},
   "outputs": [],
   "source": [
    "datos4.groupby(['Niños'])['Educacion'].apply(lambda x: x.mode())"
   ]
  },
  {
   "cell_type": "code",
   "execution_count": null,
   "id": "ba2a0a82",
   "metadata": {},
   "outputs": [],
   "source": [
    "# ordenado descendente\n",
    "educacion=datos4.groupby(['Educacion'])['Niños'].mean()\n",
    "educacion.sort_values(ascending=False)"
   ]
  },
  {
   "cell_type": "code",
   "execution_count": null,
   "id": "13ffe965",
   "metadata": {},
   "outputs": [],
   "source": [
    "datos4.groupby(['Adolescentes'])['Educacion'].apply(lambda x: x.mode())"
   ]
  },
  {
   "cell_type": "code",
   "execution_count": null,
   "id": "8b29186c",
   "metadata": {},
   "outputs": [],
   "source": [
    "# ordenado descendente\n",
    "educacion=datos4.groupby(['Educacion'])['Adolescentes'].mean()\n",
    "educacion.sort_values(ascending=False)"
   ]
  },
  {
   "cell_type": "markdown",
   "id": "8a67af22",
   "metadata": {},
   "source": [
    "#### Estado civil con distintas variables"
   ]
  },
  {
   "cell_type": "code",
   "execution_count": null,
   "id": "9ffe13c5",
   "metadata": {},
   "outputs": [],
   "source": [
    "# Agrupar por variables cualitativas y calcular la media de ingresos\n",
    "#ordenado descendente\n",
    "civil2= datos4.groupby(['Estadocivil'])['Ingresos'].mean()\n",
    "civil2.sort_values(ascending=False)"
   ]
  },
  {
   "cell_type": "code",
   "execution_count": null,
   "id": "9b03e9dc",
   "metadata": {},
   "outputs": [],
   "source": [
    "# Agrupar por variables cualitativas y calcular la media de respuesta\n",
    "civil=datos4.groupby(['Estadocivil'])['Respuesta'].mean()\n",
    "civil.sort_values(ascending=False)"
   ]
  },
  {
   "cell_type": "code",
   "execution_count": null,
   "id": "f113b1af",
   "metadata": {},
   "outputs": [],
   "source": [
    "# ordenado descendente\n",
    "educacion=datos4.groupby(['Estadocivil'])['Niños'].mean()\n",
    "educacion.sort_values(ascending=False)"
   ]
  },
  {
   "cell_type": "code",
   "execution_count": null,
   "id": "10346df5",
   "metadata": {},
   "outputs": [],
   "source": [
    "datos4.groupby(['Niños'])['Estadocivil'].apply(lambda x: x.mode())"
   ]
  },
  {
   "cell_type": "code",
   "execution_count": null,
   "id": "45318f16",
   "metadata": {},
   "outputs": [],
   "source": [
    "# ordenado descendente\n",
    "educacion=datos4.groupby(['Estadocivil'])['Adolescentes'].mean()\n",
    "educacion.sort_values(ascending=False)"
   ]
  },
  {
   "cell_type": "code",
   "execution_count": null,
   "id": "046fcd61",
   "metadata": {},
   "outputs": [],
   "source": [
    "datos4.groupby(['Adolescentes'])['Estadocivil'].apply(lambda x: x.mode())"
   ]
  },
  {
   "cell_type": "markdown",
   "id": "c924a084",
   "metadata": {},
   "source": [
    "#### País con distintas variables"
   ]
  },
  {
   "cell_type": "code",
   "execution_count": null,
   "id": "fbe7e735",
   "metadata": {},
   "outputs": [],
   "source": [
    "# Agrupar por variables cualitativas y calcular la moda de respuesta\n",
    "datos4.groupby(['Pais'])['Respuesta'].apply(lambda x: x.mode())\n"
   ]
  },
  {
   "cell_type": "code",
   "execution_count": null,
   "id": "4475c5bc",
   "metadata": {},
   "outputs": [],
   "source": [
    "# Agrupar por variables cualitativas y calcular la media de respuesta\n",
    "pais= datos4.groupby(['Pais'])['Respuesta'].mean()\n",
    "pais.sort_values(ascending=False)"
   ]
  },
  {
   "cell_type": "code",
   "execution_count": null,
   "id": "1293a2ef",
   "metadata": {},
   "outputs": [],
   "source": [
    "# Agrupar por variables cualitativas y calcular la media de ingresos\n",
    "pais= datos4.groupby(['Pais'])['Ingresos'].mean()\n",
    "pais.sort_values(ascending=False)"
   ]
  },
  {
   "cell_type": "code",
   "execution_count": null,
   "id": "57158492",
   "metadata": {},
   "outputs": [],
   "source": [
    "datos4.groupby(['Adolescentes'])['Pais'].apply(lambda x: x.mode())"
   ]
  },
  {
   "cell_type": "code",
   "execution_count": null,
   "id": "ec318569",
   "metadata": {},
   "outputs": [],
   "source": [
    "# ordenado descendente\n",
    "educacion=datos4.groupby(['Pais'])['Adolescentes'].mean()\n",
    "educacion.sort_values(ascending=False)"
   ]
  },
  {
   "cell_type": "code",
   "execution_count": null,
   "id": "50fa4b4e",
   "metadata": {},
   "outputs": [],
   "source": [
    "datos4.groupby(['Niños'])['Pais'].apply(lambda x: x.mode())"
   ]
  },
  {
   "cell_type": "code",
   "execution_count": null,
   "id": "14af1e49",
   "metadata": {},
   "outputs": [],
   "source": [
    "educacion=datos4.groupby(['Pais'])['Niños'].mean()\n",
    "educacion.sort_values(ascending=False)"
   ]
  },
  {
   "cell_type": "markdown",
   "id": "d30ec29e",
   "metadata": {},
   "source": [
    "#### Años con otras variables"
   ]
  },
  {
   "cell_type": "code",
   "execution_count": null,
   "id": "a03e670a",
   "metadata": {},
   "outputs": [],
   "source": [
    "# Agrupar por variables cualitativas y calcular la media de respuesta\n",
    "años= datos4.groupby(['años'])['Respuesta'].mean()\n",
    "años.sort_values(ascending=False)"
   ]
  },
  {
   "cell_type": "code",
   "execution_count": null,
   "id": "0fab11a8",
   "metadata": {},
   "outputs": [],
   "source": [
    "datos4['años'].sort_values(ascending=False)"
   ]
  },
  {
   "cell_type": "code",
   "execution_count": null,
   "id": "0badc65e",
   "metadata": {},
   "outputs": [],
   "source": [
    "#Agrupar por variables cualitativas y calcular la media de ingresos\n",
    "años= datos4.groupby(['años'])['Ingresos'].mean()\n",
    "años.sort_values(ascending=False)"
   ]
  },
  {
   "cell_type": "code",
   "execution_count": null,
   "id": "5741a3f2",
   "metadata": {},
   "outputs": [],
   "source": [
    "ordenar= datos4.groupby(['años'])['Ingresos'].apply(lambda x: x.mode())\n",
    "ordenar.sort_values(ascending=False)"
   ]
  },
  {
   "cell_type": "code",
   "execution_count": null,
   "id": "9852f617",
   "metadata": {},
   "outputs": [],
   "source": []
  },
  {
   "cell_type": "markdown",
   "id": "2139961d",
   "metadata": {},
   "source": [
    "#### ANÁLISIS DE LAS VARIABLES"
   ]
  },
  {
   "cell_type": "code",
   "execution_count": null,
   "id": "cf6e3834",
   "metadata": {},
   "outputs": [],
   "source": [
    "# Representación en barras de la frecuencia de las instancias de la variable estado civil\n",
    "datos4['Estadocivil'].value_counts(sort=False).sort_index().plot.bar(rot=0, cmap='Set3')\n",
    "plt.xlabel('Tipo de estado civil')\n",
    "plt.ylabel('Frecuencia ')"
   ]
  },
  {
   "cell_type": "code",
   "execution_count": null,
   "id": "8994db35",
   "metadata": {},
   "outputs": [],
   "source": [
    "# Igual que el anterior pero en porcentaje y en gráfico circular\n",
    "desfase = (0.1, 0, 0, 0, 0)\n",
    "datos4['Estadocivil'].value_counts(sort=False).sort_index().plot.pie(rot=0, cmap='Set3', autopct=\"%0.1f %%\", explode=desfase)"
   ]
  },
  {
   "cell_type": "code",
   "execution_count": null,
   "id": "956eff6b",
   "metadata": {},
   "outputs": [],
   "source": [
    "# Representación en barras de la frecuencia de las instancias de la variable educación\n",
    "datos4['Educacion'].value_counts(sort=False).sort_index().plot.bar(rot=0, cmap='Set3')\n",
    "plt.xlabel('Tipo de educación')\n",
    "plt.ylabel('Frecuencia ')"
   ]
  },
  {
   "cell_type": "code",
   "execution_count": null,
   "id": "aa6528c0",
   "metadata": {},
   "outputs": [],
   "source": [
    "# Igual que el anterior pero en porcentaje y en gráfico circular\n",
    "desfase = (0, 0.1, 0, 0)\n",
    "datos4['Educacion'].value_counts(sort=False).sort_index().plot.pie(rot=0, cmap='Set3', autopct=\"%0.1f %%\", explode=desfase)\n"
   ]
  },
  {
   "cell_type": "code",
   "execution_count": null,
   "id": "67e94607",
   "metadata": {},
   "outputs": [],
   "source": [
    "# Representación en barras de la frecuencia de las instancias de la variable pais\n",
    "datos4['Pais'].value_counts(sort=False).sort_index().plot.bar(rot=0, cmap='Set3')\n",
    "plt.xlabel('Pais del consumidor')\n",
    "plt.ylabel('Frecuencia ')"
   ]
  },
  {
   "cell_type": "code",
   "execution_count": null,
   "id": "31e2c76e",
   "metadata": {},
   "outputs": [],
   "source": [
    "# Igual que el anterior pero en porcentaje y en gráfico circular\n",
    "desfase = (0, 0, 0, 0,0,0,0.1,0)\n",
    "datos4['Pais'].value_counts(sort=False).sort_index().plot.pie(rot=0, cmap='Set3', autopct=\"%0.1f %%\", explode=desfase)"
   ]
  },
  {
   "cell_type": "markdown",
   "id": "d0f2f5a0",
   "metadata": {},
   "source": [
    "#### ANÁLISIS CORRELACIÓN"
   ]
  },
  {
   "cell_type": "code",
   "execution_count": null,
   "id": "caef4810",
   "metadata": {},
   "outputs": [],
   "source": [
    "# Creación de la matriz de correlación de todas las variables\n",
    "correlacion=datos4.corr()\n",
    "datos4.corr()"
   ]
  },
  {
   "cell_type": "code",
   "execution_count": null,
   "id": "5e52bfd7",
   "metadata": {},
   "outputs": [],
   "source": [
    "# Representación gráfica de la matriz de correlación\n",
    "sns.heatmap(correlacion, annot=False, cmap='coolwarm')\n",
    "plt.show()"
   ]
  },
  {
   "cell_type": "code",
   "execution_count": null,
   "id": "8ed56636",
   "metadata": {},
   "outputs": [],
   "source": [
    "#hay dos datos: z_revenue(Zingresos) y z_costcontact(Zcostecontacto), que solo tiene el mismo resultado. \n",
    "#No se sabe a que hace referencia. \n",
    "datos4['Zingresos']\n",
    "datos4['Zcostecontacto']"
   ]
  },
  {
   "cell_type": "markdown",
   "id": "2d9bc193",
   "metadata": {},
   "source": [
    "## REALIZACIÓN DE MACHINE LEARNING"
   ]
  },
  {
   "cell_type": "code",
   "execution_count": null,
   "id": "71dc630a",
   "metadata": {},
   "outputs": [],
   "source": [
    "# Análisis de la variable salida para ver si está balanceado o no\n",
    "datos4['Respuesta'].value_counts(sort=False).sort_index().plot.bar(rot=0, cmap='Set3')\n",
    "plt.xlabel('Tipo de respuesta')\n",
    "plt.ylabel('Número de respuesta')"
   ]
  },
  {
   "cell_type": "code",
   "execution_count": null,
   "id": "db882117",
   "metadata": {},
   "outputs": [],
   "source": [
    "# Apertura del archivo del conjunto de datos ya limpiado\n",
    "datos5= pd.read_csv(\"ARCHIVOTRATADO.csv\", sep=\";\")"
   ]
  },
  {
   "cell_type": "code",
   "execution_count": null,
   "id": "c7f5964b",
   "metadata": {},
   "outputs": [],
   "source": [
    "# Codificar las variables categóricas con la técnica one-hot para volverlas dummies\n",
    "data = pd.get_dummies(datos5, columns=['Educacion','Estadocivil','Pais', 'Inscripcion'])\n",
    "\n",
    "# Separar las variables predictoras y la variable objetivo\n",
    "X = data.drop('Respuesta', axis=1)\n",
    "y = data['Respuesta']\n",
    "\n",
    "# Aplicar la técnica SMOTE para balancear las clases\n",
    "smote = SMOTE()\n",
    "X_resampled, y_resampled = smote.fit_resample(X, y)\n",
    "\n",
    "# Dividir en conjuntos de entrenamiento y prueba\n",
    "X_train, X_test, y_train, y_test = train_test_split(X_resampled, y_resampled, test_size=0.25, random_state=42)\n",
    "\n",
    "#Para saber como está estratificada\n",
    "print(\"Tamaño del conjunto x_train :\", X_train.shape)\n",
    "print(\"Tamaño del conjunto y_train :\", y_train.shape)\n",
    "print(\"Tamaño del conjunto x_test :\", X_test.shape)\n",
    "print(\"Tamaño del conjunto y_test :\", y_test.shape)\n",
    "\n"
   ]
  },
  {
   "cell_type": "markdown",
   "id": "17d55e5b",
   "metadata": {},
   "source": [
    "## ARBOL DE DECISIÓN"
   ]
  },
  {
   "cell_type": "markdown",
   "id": "edb4d814",
   "metadata": {},
   "source": [
    "(Clasificación: si el objetivo es predecir si un cliente realizará una compra o no, se puede aplicar un algoritmo de clasificación, como árboles de decisión, regresión logística o SVM.\n",
    "Agrupamiento: si se desea identificar patrones en los datos sin tener una variable objetivo definida, se puede aplicar un algoritmo de agrupamiento, como k-means o clustering jerárquico.)"
   ]
  },
  {
   "cell_type": "code",
   "execution_count": null,
   "id": "11b52283",
   "metadata": {},
   "outputs": [],
   "source": [
    "#Creamos primero la estructura del árbol \n",
    "#y la entrenamos con los conjuntos de entrenamiento de las variables predictoras y la respuesta.\n",
    "\n",
    "arb = tree.DecisionTreeClassifier()\n",
    "arbol = arb.fit(X_train, y_train)"
   ]
  },
  {
   "cell_type": "markdown",
   "id": "eeff2a35",
   "metadata": {},
   "source": [
    "#### Matriz de Confusión"
   ]
  },
  {
   "cell_type": "code",
   "execution_count": null,
   "id": "df0be0a0",
   "metadata": {},
   "outputs": [],
   "source": [
    "#Realizamos la predicción\n",
    "y_pred = arbol.predict(X_test)\n",
    "\n",
    "# Evaluamos el modelo\n",
    "print(\"% de acierto en el conjunto de entrenamiento: \", arbol.score(X_train, y_train))\n",
    "print(\"% de acierto en el conjunto de test: \", arbol.score(X_test, y_test))\n",
    "\n",
    "#Calcular el accuracy\n",
    "accuracy = accuracy_score(y_test, y_pred)\n",
    "print(\"Precisión sin poda:\", accuracy)"
   ]
  },
  {
   "cell_type": "code",
   "execution_count": null,
   "id": "08638905",
   "metadata": {},
   "outputs": [],
   "source": [
    "# creación de la matriz de confusión\n",
    "metrics.confusion_matrix(y_test, y_pred)"
   ]
  },
  {
   "cell_type": "code",
   "execution_count": null,
   "id": "a4f29db9",
   "metadata": {},
   "outputs": [],
   "source": [
    "# Cálculo de todas las métricas\n",
    "classReport = metrics.classification_report(y_test, y_pred)\n",
    "print(classReport)"
   ]
  },
  {
   "cell_type": "markdown",
   "id": "764fdbed",
   "metadata": {},
   "source": [
    "#### AUC"
   ]
  },
  {
   "cell_type": "code",
   "execution_count": null,
   "id": "9155008a",
   "metadata": {},
   "outputs": [],
   "source": [
    "print(f'AUC del modelo Árbol: {roc_auc_score(y_test, y_pred)}')\n",
    "#En la práctica, un valor de AUC de alrededor de 0.7 a 0.8 se considera aceptable en muchos problemas, \n",
    "#mientras que un valor superior a 0.9 se considera excelente. Sin embargo, el valor óptimo de AUC puede variar dependiendo \n",
    "#del contexto del problema y de las implicaciones prácticas de la clasificación incorrecta de las instancias."
   ]
  },
  {
   "cell_type": "code",
   "execution_count": null,
   "id": "52d0a263",
   "metadata": {},
   "outputs": [],
   "source": [
    "# Para la creación de la curva roc de forma gráfica\n",
    "fpr, tpr, thresholds = roc_curve(y_test, y_pred)\n",
    "\n",
    "# Graficar la curva ROC\n",
    "plt.plot(fpr, tpr, label='Curva ROC')\n",
    "plt.plot([0, 1], [0, 1], 'k--', label='Clasificación aleatoria')\n",
    "plt.xlabel('Tasa de Falsos Positivos (FPR)')\n",
    "plt.ylabel('Tasa de Verdaderos Positivos (TPR)')\n",
    "plt.title('Curva ROC')\n",
    "plt.legend()\n",
    "plt.show()"
   ]
  },
  {
   "cell_type": "code",
   "execution_count": null,
   "id": "dbf0e6e5",
   "metadata": {},
   "outputs": [],
   "source": [
    "# Inicio del código para la creación del árbol de decisión de forma gráfica\n",
    "import os\n",
    "\n",
    "# Obtener el valor actual de la variable de entorno PATH\n",
    "current_path = os.environ.get('PATH', '')\n",
    "\n",
    "# Agregar la ruta de Graphviz al PATH\n",
    "graphviz_path = r'C:\\Program Files\\Graphviz\\bin'\n",
    "new_path = f'{current_path};{graphviz_path}'\n",
    "\n",
    "# Actualización de la variable de entorno PATH\n",
    "os.environ['PATH'] = new_path"
   ]
  },
  {
   "cell_type": "code",
   "execution_count": null,
   "id": "c8a8f7e0",
   "metadata": {},
   "outputs": [],
   "source": [
    "# Código en sí de la creación del árbol de decisión\n",
    "\n",
    "# Obtener los nombres de las características y las clases\n",
    "feature_names = data.columns[:-1].tolist()  # Para obtener los nombres de las características (excepto la última)\n",
    "target_names = data.iloc[:, -1].astype(str).unique().tolist() \n",
    "\n",
    "# Crear la representación del árbol de decisión en formato DOT\n",
    "dot_data = tree.export_graphviz(arbol, out_file=None,\n",
    "                                feature_names=feature_names,\n",
    "                                class_names=target_names,\n",
    "                                filled=True, rounded=True,\n",
    "                                special_characters=True)\n",
    "\n",
    "# Generar el gráfico del árbol de decisión usando la libreria Graphviz\n",
    "graph = graphviz.Source(dot_data)\n",
    "graph.render(\"mkt_decision_tree\")  #para guardarlo\n",
    "\n",
    "# Visualizar el gráfico\n",
    "graph.view()"
   ]
  },
  {
   "cell_type": "markdown",
   "id": "8b1729db",
   "metadata": {},
   "source": [
    "#### Poda con cross validation"
   ]
  },
  {
   "cell_type": "code",
   "execution_count": null,
   "id": "36e63406",
   "metadata": {},
   "outputs": [],
   "source": [
    "#Comprobación del accuracy del modelo por si al realizar una técnica de poda arroja un mejor modelo que sin ella\n",
    "\n",
    "#primero creamos la estructura del arbol\n",
    "arb2 = tree.DecisionTreeClassifier()\n",
    "\n",
    "# Realizar la poda de Cross Validation\n",
    "scores = cross_val_score(arb2, X, y, cv=5)  # cv indica el número de divisiones en Cross Validation\n",
    "\n",
    "# Imprimir los puntajes de precisión de cada división\n",
    "print(\"Precisión por división:\", scores)\n",
    "\n",
    "# Ajustar el modelo utilizando los datos de entrenamiento\n",
    "arbol2 = arb2.fit(X_train, y_train)\n",
    "#Realizamos la predicción\n",
    "y_pred = arbol2.predict(X_test)\n",
    "\n",
    "# Evaluamos el modelo\n",
    "print(\"% de acierto en el conjunto de entrenamiento: \", arbol2.score(X_train, y_train))\n",
    "print(\"% de acierto en el conjunto de test: \", arbol2.score(X_test, y_test))\n",
    "\n",
    "#Calcular el accuracy\n",
    "accuracy = accuracy_score(y_test, y_pred)\n",
    "print(\"Precisión con poda:\", accuracy)"
   ]
  },
  {
   "cell_type": "code",
   "execution_count": null,
   "id": "8b94df43",
   "metadata": {},
   "outputs": [],
   "source": [
    "# creación de la matriz de confusión\n",
    "metrics.confusion_matrix(y_test, y_pred)"
   ]
  },
  {
   "cell_type": "code",
   "execution_count": null,
   "id": "11672c6c",
   "metadata": {},
   "outputs": [],
   "source": [
    "# Cálculo de todas las métricas\n",
    "classReport = metrics.classification_report(y_test, y_pred)\n",
    "print(classReport)"
   ]
  },
  {
   "cell_type": "code",
   "execution_count": null,
   "id": "de46428f",
   "metadata": {},
   "outputs": [],
   "source": [
    "print(f'AUC del modelo Árbol: {roc_auc_score(y_test, y_pred)}')\n",
    "#En la práctica, un valor de AUC de alrededor de 0.7 a 0.8 se considera aceptable en muchos problemas, \n",
    "#mientras que un valor superior a 0.9 se considera excelente. Sin embargo, el valor óptimo de AUC puede variar dependiendo \n",
    "#del contexto del problema y de las implicaciones prácticas de la clasificación incorrecta de las instancias."
   ]
  },
  {
   "cell_type": "code",
   "execution_count": null,
   "id": "14b961ab",
   "metadata": {},
   "outputs": [],
   "source": [
    "# Creación de la gráfica curva roc para un arbol podado\n",
    "fpr, tpr, thresholds = roc_curve(y_test, y_pred)\n",
    "\n",
    "# Graficar la curva ROC\n",
    "plt.plot(fpr, tpr, label='Curva ROC')\n",
    "plt.plot([0, 1], [0, 1], 'k--', label='Clasificación aleatoria')\n",
    "plt.xlabel('Tasa de Falsos Positivos (FPR)')\n",
    "plt.ylabel('Tasa de Verdaderos Positivos (TPR)')\n",
    "plt.title('Curva ROC')\n",
    "plt.legend()\n",
    "plt.show()"
   ]
  },
  {
   "cell_type": "code",
   "execution_count": null,
   "id": "b309510a",
   "metadata": {},
   "outputs": [],
   "source": [
    "# Creación del arbol de decisión y sus pasos para guardarlo\n",
    "\n",
    "# Obtemer los nombres de las características y las clases\n",
    "feature_names = data.columns[:-1].tolist()  # Obtener los nombres de las características (excepto la última)\n",
    "target_names = data.iloc[:, -1].astype(str).unique().tolist() \n",
    "\n",
    "# Crear la representación del árbol de decisión en formato DOT\n",
    "dot_data = tree.export_graphviz(arbol2, out_file=None,\n",
    "                                feature_names=feature_names,\n",
    "                                class_names=target_names,\n",
    "                                filled=True, rounded=True,\n",
    "                                special_characters=True)\n",
    "\n",
    "# Generar el gráfico del árbol de decisión usando Graphviz\n",
    "graph = graphviz.Source(dot_data)\n",
    "graph.render(\"mkt_decision_tree_crossvalidation\")  # Guardado del árbol\n",
    "\n",
    "# Visualizar el gráfico \n",
    "graph.view()"
   ]
  },
  {
   "cell_type": "markdown",
   "id": "3692fe71",
   "metadata": {},
   "source": [
    "#### KNN"
   ]
  },
  {
   "cell_type": "code",
   "execution_count": null,
   "id": "ac804ea1",
   "metadata": {},
   "outputs": [],
   "source": [
    "#Creación de un knn por el simple hecho de comprobar que modelo daba un mejor ajuste\n",
    "k = 3\n",
    "knn = KNeighborsClassifier(n_neighbors=k)\n",
    "\n",
    "# Entrenar el clasificador\n",
    "knn.fit(X_train, y_train)\n",
    "\n",
    "# Realizar predicciones en el conjunto de prueba\n",
    "y_pred = knn.predict(X_test)\n",
    "\n",
    "# Calcular la precisión del modelo\n",
    "accuracy = accuracy_score(y_test, y_pred)\n",
    "print(\"Precisión del modelo:\", accuracy)"
   ]
  },
  {
   "cell_type": "code",
   "execution_count": null,
   "id": "99e860fe",
   "metadata": {},
   "outputs": [],
   "source": [
    "# Comprobación de todas las métricas\n",
    "classReport2 = metrics.classification_report(y_test, y_pred)\n",
    "print(classReport2)"
   ]
  },
  {
   "cell_type": "markdown",
   "id": "6ace9af6",
   "metadata": {},
   "source": [
    "## CLUSTER"
   ]
  },
  {
   "cell_type": "code",
   "execution_count": null,
   "id": "20e8d3bc",
   "metadata": {},
   "outputs": [],
   "source": [
    "# Método de codo para saber cual es el nñumero óptimo de kmeans a utilizar\n",
    "\n",
    "# Seleccioanr los datos\n",
    "datos7 = pd.read_csv(\"ARCHIVOTRATADO.csv\", sep=\";\")\n",
    "\n",
    "# Codificar las variables categóricas con la técnica one-hot\n",
    "data = pd.get_dummies(datos7, columns=['Educacion','Estadocivil','Pais', 'Inscripcion'])\n",
    "\n",
    "# Seleccionar columnas numéricas relevantes para el análisis\n",
    "X= data.select_dtypes(include=['int', 'float'])\n",
    "\n",
    "\n",
    "# Calcular la suma de los cuadrados de las distancias para diferentes valores de k\n",
    "sse = []\n",
    "for k in range(1, 15):\n",
    "    kmeans = KMeans(n_clusters=k, random_state=42)\n",
    "    kmeans.fit(X)\n",
    "    sse.append(kmeans.inertia_)\n",
    "\n",
    "# Graficar la suma de los cuadrados de las distancias en función del número de clusters\n",
    "hex='#8dd3c7'\n",
    "plt.plot(range(1, 15), sse, marker='o', color=hex , markersize=3)\n",
    "plt.xlabel('Número de clusters')\n",
    "plt.ylabel('Suma de los cuadrados de las distancias')\n",
    "plt.show()"
   ]
  },
  {
   "cell_type": "code",
   "execution_count": null,
   "id": "03672430",
   "metadata": {},
   "outputs": [],
   "source": [
    "#estudio de centroides de los cluster para crear los cluster\n",
    "\n",
    "# Datos de entrada\n",
    "datos8 = pd.read_csv(\"ARCHIVOTRATADO.csv\", sep=\";\")\n",
    "# Codificar las variables categóricas con la técnica one-hot\n",
    "data = pd.get_dummies(datos8, columns=['Educacion','Estadocivil','Pais', 'Inscripcion'])\n",
    "\n",
    "# Seleccionar columnas numéricas relevantes para el análisis\n",
    "X= data.select_dtypes(include=['int', 'float'])\n",
    "\n",
    "# Crear un objeto KMeans\n",
    "kmeans = KMeans(n_clusters=3, random_state=42)\n",
    "\n",
    "# Entrenar el modelo con los datos de entrada\n",
    "kmeans.fit(X)\n",
    "\n",
    "# Imprimir las etiquetas de los clusters para cada ejemplo\n",
    "print(kmeans.labels_)\n",
    "\n",
    "# Imprimir las coordenadas de los centroides de los clusters\n",
    "print(kmeans.cluster_centers_)"
   ]
  },
  {
   "cell_type": "code",
   "execution_count": null,
   "id": "4f71fac6",
   "metadata": {},
   "outputs": [],
   "source": [
    "#Saber que tipo de datos son los que resultan del modelo\n",
    "data.info()"
   ]
  },
  {
   "cell_type": "code",
   "execution_count": null,
   "id": "0c93cd56",
   "metadata": {},
   "outputs": [],
   "source": [
    "# comprobar las columnas que hay con las dummies\n",
    "data.columns"
   ]
  },
  {
   "cell_type": "code",
   "execution_count": null,
   "id": "856cb786",
   "metadata": {},
   "outputs": [],
   "source": [
    "#comprobación de las columnas sn las dummies\n",
    "X.columns"
   ]
  },
  {
   "cell_type": "code",
   "execution_count": null,
   "id": "87b3e18b",
   "metadata": {},
   "outputs": [],
   "source": [
    "# Gráfico de dispersión de los cluster\n",
    "# Asignar cada observación al cluster correspondiente\n",
    "labels = kmeans.predict(X)\n",
    "\n",
    "# Visualizar clusters en una gráfica de dispersión\n",
    "plt.scatter(X['Ingresos'], X['Respuesta'], c=labels, cmap='Set3')\n",
    "plt.xlabel('Ingresos familiares')\n",
    "plt.ylabel('Gasto total en vino')\n",
    "plt.title('Scatter plot: Ingresos vs Totalvinos')"
   ]
  },
  {
   "cell_type": "code",
   "execution_count": null,
   "id": "e5f6b6dd",
   "metadata": {},
   "outputs": [],
   "source": [
    "# Métrica de silueta para comprobar si el cluster es bueno o no. Se evalua de 0 a 1.\n",
    "\n",
    "# X es la matriz de características\n",
    "# labels es una lista o array que contiene las etiquetas de clúster asignadas a cada muestra\n",
    "\n",
    "silhouette_avg = silhouette_score(X, labels)\n",
    "print(\"El índice de silueta promedio es:\", silhouette_avg)\n"
   ]
  },
  {
   "cell_type": "code",
   "execution_count": null,
   "id": "088902b5",
   "metadata": {},
   "outputs": [],
   "source": [
    "# Indice intracluster para evaluar la distancia de los datos\n",
    "# X es la matriz de características \n",
    "# num_clusters es el número de clústeres a evaluar\n",
    "\n",
    "kmeans = KMeans(n_clusters=3)\n",
    "kmeans.fit(X)\n",
    "\n",
    "wcss = kmeans.inertia_\n",
    "print(\"La suma de las distancias cuadradas intraclúster es:\", wcss)"
   ]
  },
  {
   "cell_type": "code",
   "execution_count": null,
   "id": "dfa209a5",
   "metadata": {},
   "outputs": [],
   "source": [
    "# Indice itnercluster para evaluar la distancia de los datos\n",
    "# Obtener los centroides de los clústeres\n",
    "centroids = kmeans.cluster_centers_\n",
    "\n",
    "# Calcula la distancia euclidiana entre los centroides\n",
    "distance = np.linalg.norm(centroids[0] - centroids[1])\n",
    "\n",
    "print(\"La distancia interclúster es:\", distance)"
   ]
  },
  {
   "cell_type": "code",
   "execution_count": null,
   "id": "05f33515",
   "metadata": {},
   "outputs": [],
   "source": [
    "# Código para sacar los datos de cada variable agrupado por cluster\n",
    "\n",
    "# Obtener las etiquetas de cluster asignadas a cada muestra\n",
    "labels = kmeans.labels_\n",
    "\n",
    "# Agregar las etiquetas de cluster al DataFrame\n",
    "X['cluster_label'] = labels\n",
    "\n",
    "# Crear un diccionario para almacenar los datos de cada cluster\n",
    "cluster_data = {}\n",
    "for label in set(labels):\n",
    "    cluster_data[label] = X[X['cluster_label'] == label].drop('cluster_label', axis=1)\n",
    "\n",
    "# Imprimir los datos de cada cluster\n",
    "for label, cluster in cluster_data.items():\n",
    "    print(\"Cluster\", label)\n",
    "    print(cluster)\n",
    "    print()"
   ]
  },
  {
   "cell_type": "code",
   "execution_count": null,
   "id": "0fb2bfcb",
   "metadata": {},
   "outputs": [],
   "source": [
    "# Aqui ya se agrupan por cluster y se pueden evaluar los distintos grupos\n",
    "clustermedia= X.groupby('cluster_label').mean().T\n",
    "clustermedia"
   ]
  },
  {
   "cell_type": "code",
   "execution_count": null,
   "id": "bfb9274c",
   "metadata": {},
   "outputs": [],
   "source": [
    "# Calcular los valores más frecuentes de las variables categóricas en cada cluster\n",
    "clustermoda = X.groupby('cluster_label').agg(lambda x: x.value_counts().index[0]).T\n",
    "clustermoda"
   ]
  },
  {
   "cell_type": "code",
   "execution_count": null,
   "id": "0c888d66",
   "metadata": {},
   "outputs": [],
   "source": [
    "# saber las variables que hay en los cluster\n",
    "X.columns"
   ]
  },
  {
   "cell_type": "code",
   "execution_count": null,
   "id": "0b80ce58",
   "metadata": {},
   "outputs": [],
   "source": [
    "#Comprobación de las variables categóricas dentro de los cluster\n",
    "\n",
    "# Agregar las etiquetas de cluster al conjunto de datos\n",
    "data['Cluster'] = labels\n",
    "\n",
    "# Iterar sobre cada cluster y obtener las variables dummy para ese cluster\n",
    "for cluster in range(3):  \n",
    "    cluster_data = data[data['Cluster'] == cluster]\n",
    "    cluster_dummies = cluster_data.filter(like='Pais')  \n",
    "    \n",
    "    print(f\"Cluster {cluster} - Variables dummy:\")\n",
    "    print(cluster_dummies.head().sum())\n",
    "    print()"
   ]
  },
  {
   "cell_type": "code",
   "execution_count": null,
   "id": "a8f993f3",
   "metadata": {},
   "outputs": [],
   "source": [
    "#Comprobación de las variables categóricas dentro de los cluster\n",
    "\n",
    "# Agregar las etiquetas de cluster al conjunto de datos\n",
    "data['Cluster'] = labels\n",
    "\n",
    "# Iterar sobre cada cluster y obtener las variables dummy para ese cluster\n",
    "for cluster in range(3): \n",
    "    cluster_data = data[data['Cluster'] == cluster]\n",
    "    cluster_dummies = cluster_data.filter(like='Educacion')  \n",
    "    \n",
    "    print(f\"Cluster {cluster} - Variables dummy:\")\n",
    "    print(cluster_dummies.head().sum())\n",
    "    print()"
   ]
  },
  {
   "cell_type": "code",
   "execution_count": null,
   "id": "b9001fe6",
   "metadata": {},
   "outputs": [],
   "source": [
    "#Comprobación de las variables categóricas dentro de los cluster\n",
    "\n",
    "# Agregar las etiquetas de cluster al conjunto de datos\n",
    "data['Cluster'] = labels\n",
    "\n",
    "# Iterar sobre cada cluster y obtener las variables dummy para ese cluster\n",
    "for cluster in range(3):\n",
    "    cluster_data = data[data['Cluster'] == cluster]\n",
    "    cluster_dummies = cluster_data.filter(like='Estadocivil')  \n",
    "    \n",
    "    print(f\"Cluster {cluster} - Variables dummy:\")\n",
    "    print(cluster_dummies.head().sum())\n",
    "    print()"
   ]
  },
  {
   "cell_type": "markdown",
   "id": "3d1fcfc2",
   "metadata": {},
   "source": [
    "#### Gráficas de dispersión sin cluster"
   ]
  },
  {
   "cell_type": "markdown",
   "id": "05466b48",
   "metadata": {},
   "source": [
    "# Bucle para que python itere cada variable con otra para crear los gráficos de dispersión y no ir haciendolo poco a poco\n",
    "\n",
    "import os\n",
    "# Obtener la lista de nombres de columnas del DataFrame\n",
    "columnas = datos7.columns\n",
    "\n",
    "# Crear un directorio para guardar las imágenes\n",
    "directorio = 'C:\\\\Users\\\\Lucia'  \n",
    "os.makedirs(directorio, exist_ok=True)\n",
    "\n",
    "# Generar scatter plots para cada variable y guardar las imágenes\n",
    "for columna_x in columnas:\n",
    "       for columna_y in columnas:\n",
    "        # Excluir la variable si es la misma en el eje x e y\n",
    "        if columna_x != columna_y:\n",
    "            hex='#8dd3c7'\n",
    "            plt.scatter(datos7[columna_x], datos7[columna_y], color=hex)\n",
    "            plt.title('Scatter plot: {} vs {}'.format(columna_x, columna_y))\n",
    "            plt.xlabel(columna_x)\n",
    "            plt.ylabel(columna_y)\n",
    "            \n",
    "            # Guardar la imagen en un archivo en el directorio especificado\n",
    "            ruta_imagen = os.path.join(directorio, 'scatter_{}_vs_{}.png'.format(columna_x, columna_y))\n",
    "            plt.savefig(ruta_imagen)\n",
    "            \n",
    "            # Limpiar el gráfico para la siguiente iteración\n",
    "            plt.clf()\n",
    "\n",
    "# Notificar la finalización del proceso\n",
    "print('Imágenes guardadas')\n",
    "\n"
   ]
  }
 ],
 "metadata": {
  "kernelspec": {
   "display_name": "Python 3 (ipykernel)",
   "language": "python",
   "name": "python3"
  },
  "language_info": {
   "codemirror_mode": {
    "name": "ipython",
    "version": 3
   },
   "file_extension": ".py",
   "mimetype": "text/x-python",
   "name": "python",
   "nbconvert_exporter": "python",
   "pygments_lexer": "ipython3",
   "version": "3.9.13"
  }
 },
 "nbformat": 4,
 "nbformat_minor": 5
}
